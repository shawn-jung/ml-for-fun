{
 "cells": [
  {
   "cell_type": "markdown",
   "metadata": {},
   "source": [
    "# League Of Legend – Winning Prediction\n",
    "- Author: Shawn Jung \n",
    "- Last Update: 7/3/2020 <br>\n",
    "I had a chance to read the incredible book, ‘Bayesian Statistics The Fun Way,’ during the Corona lockdown. I was amazed by the process of calculating the posterior probability based on the prior and newly acquired information and repeating this process by putting the posterior as the prior input of the next step. It resembles what we would normally do when watching sports games on TV or eSports streaming on Twitch. We adjust the winning probability of the team as they hunted a dragon or getting killed by opponents. For detailed explanation, visit this blog post <BR>\n",
    "https://shawnjung.blog/2020/07/03/league-of-legend-winning-prediction/"
   ]
  },
  {
   "cell_type": "markdown",
   "metadata": {},
   "source": [
    "### Loading basic libraries"
   ]
  },
  {
   "cell_type": "code",
   "execution_count": 2,
   "metadata": {},
   "outputs": [],
   "source": [
    "# pandas and numpy \n",
    "import pandas as pd  \n",
    "import numpy as np \n",
    "from matplotlib import pyplot as plt \n",
    "import seaborn as sns \n",
    "\n",
    "# metrics and dataset prepration \n",
    "from sklearn.model_selection import train_test_split\n",
    "from sklearn.model_selection import StratifiedKFold\n",
    "from sklearn.model_selection import cross_val_score\n",
    "from sklearn.metrics import classification_report \n",
    "from sklearn.metrics import accuracy_score\n",
    "\n",
    "# loading classifier libraries \n",
    "from sklearn.naive_bayes import GaussianNB \n",
    "from sklearn.ensemble import RandomForestClassifier\n",
    " \n",
    "# For future serving\n",
    "import joblib \n",
    "#from scipy.special import logsumexp\n",
    "\n",
    "# Plotly Viz\n",
    "import plotly.graph_objects as go \n"
   ]
  },
  {
   "cell_type": "markdown",
   "metadata": {},
   "source": [
    "### Let's get the dataframe\n",
    "League of Legends is a multiplayer online battle game developed by Riot Games, which is a de-facto national sport in South Korea(just kidding but seriously in a way). There are multiple regional leagues around the globe competing with the world championship. Each game is a battle in the arena between two teams, Blue and Red, and a gamer is conducting a role within a team. So, the game result can be a dichotomous classification. And each game is full of exciting sub-events – placing of stealth wards, killing elite monsters, gaining Gold/Exp, and which team made the first kill. These are useful candidate features for continuous outcome prediction with Bayesian thinking. <BR>\n",
    "I could get the diamond ranking game data from Kaggle. The dataset includes features for the first 10 minutes of each gameplay and the result. I was intrigued by predicting an outcome with the prelude of a game. The readers can get different data by directly using an API provided by Riot Games. <BR>\n",
    "https://www.kaggle.com/bobbyscience/league-of-legends-diamond-ranked-games-10-min "
   ]
  },
  {
   "cell_type": "code",
   "execution_count": 3,
   "metadata": {},
   "outputs": [
    {
     "data": {
      "text/html": [
       "<div>\n",
       "<style scoped>\n",
       "    .dataframe tbody tr th:only-of-type {\n",
       "        vertical-align: middle;\n",
       "    }\n",
       "\n",
       "    .dataframe tbody tr th {\n",
       "        vertical-align: top;\n",
       "    }\n",
       "\n",
       "    .dataframe thead th {\n",
       "        text-align: right;\n",
       "    }\n",
       "</style>\n",
       "<table border=\"1\" class=\"dataframe\">\n",
       "  <thead>\n",
       "    <tr style=\"text-align: right;\">\n",
       "      <th></th>\n",
       "      <th>gameId</th>\n",
       "      <th>blueWins</th>\n",
       "      <th>blueWardsPlaced</th>\n",
       "      <th>blueWardsDestroyed</th>\n",
       "      <th>blueFirstBlood</th>\n",
       "      <th>blueKills</th>\n",
       "      <th>blueDeaths</th>\n",
       "      <th>blueAssists</th>\n",
       "      <th>blueEliteMonsters</th>\n",
       "      <th>blueDragons</th>\n",
       "      <th>blueHeralds</th>\n",
       "      <th>blueTowersDestroyed</th>\n",
       "      <th>blueTotalGold</th>\n",
       "      <th>blueAvgLevel</th>\n",
       "      <th>blueTotalExperience</th>\n",
       "      <th>blueTotalMinionsKilled</th>\n",
       "      <th>blueTotalJungleMinionsKilled</th>\n",
       "      <th>blueGoldDiff</th>\n",
       "      <th>blueExperienceDiff</th>\n",
       "      <th>blueCSPerMin</th>\n",
       "      <th>blueGoldPerMin</th>\n",
       "      <th>redWardsPlaced</th>\n",
       "      <th>redWardsDestroyed</th>\n",
       "      <th>redFirstBlood</th>\n",
       "      <th>redKills</th>\n",
       "      <th>redDeaths</th>\n",
       "      <th>redAssists</th>\n",
       "      <th>redEliteMonsters</th>\n",
       "      <th>redDragons</th>\n",
       "      <th>redHeralds</th>\n",
       "      <th>redTowersDestroyed</th>\n",
       "      <th>redTotalGold</th>\n",
       "      <th>redAvgLevel</th>\n",
       "      <th>redTotalExperience</th>\n",
       "      <th>redTotalMinionsKilled</th>\n",
       "      <th>redTotalJungleMinionsKilled</th>\n",
       "      <th>redGoldDiff</th>\n",
       "      <th>redExperienceDiff</th>\n",
       "      <th>redCSPerMin</th>\n",
       "      <th>redGoldPerMin</th>\n",
       "    </tr>\n",
       "  </thead>\n",
       "  <tbody>\n",
       "    <tr>\n",
       "      <th>0</th>\n",
       "      <td>4519157822</td>\n",
       "      <td>0</td>\n",
       "      <td>28</td>\n",
       "      <td>2</td>\n",
       "      <td>1</td>\n",
       "      <td>9</td>\n",
       "      <td>6</td>\n",
       "      <td>11</td>\n",
       "      <td>0</td>\n",
       "      <td>0</td>\n",
       "      <td>0</td>\n",
       "      <td>0</td>\n",
       "      <td>17210</td>\n",
       "      <td>6.6</td>\n",
       "      <td>17039</td>\n",
       "      <td>195</td>\n",
       "      <td>36</td>\n",
       "      <td>643</td>\n",
       "      <td>-8</td>\n",
       "      <td>19.5</td>\n",
       "      <td>1721.0</td>\n",
       "      <td>15</td>\n",
       "      <td>6</td>\n",
       "      <td>0</td>\n",
       "      <td>6</td>\n",
       "      <td>9</td>\n",
       "      <td>8</td>\n",
       "      <td>0</td>\n",
       "      <td>0</td>\n",
       "      <td>0</td>\n",
       "      <td>0</td>\n",
       "      <td>16567</td>\n",
       "      <td>6.8</td>\n",
       "      <td>17047</td>\n",
       "      <td>197</td>\n",
       "      <td>55</td>\n",
       "      <td>-643</td>\n",
       "      <td>8</td>\n",
       "      <td>19.7</td>\n",
       "      <td>1656.7</td>\n",
       "    </tr>\n",
       "    <tr>\n",
       "      <th>1</th>\n",
       "      <td>4523371949</td>\n",
       "      <td>0</td>\n",
       "      <td>12</td>\n",
       "      <td>1</td>\n",
       "      <td>0</td>\n",
       "      <td>5</td>\n",
       "      <td>5</td>\n",
       "      <td>5</td>\n",
       "      <td>0</td>\n",
       "      <td>0</td>\n",
       "      <td>0</td>\n",
       "      <td>0</td>\n",
       "      <td>14712</td>\n",
       "      <td>6.6</td>\n",
       "      <td>16265</td>\n",
       "      <td>174</td>\n",
       "      <td>43</td>\n",
       "      <td>-2908</td>\n",
       "      <td>-1173</td>\n",
       "      <td>17.4</td>\n",
       "      <td>1471.2</td>\n",
       "      <td>12</td>\n",
       "      <td>1</td>\n",
       "      <td>1</td>\n",
       "      <td>5</td>\n",
       "      <td>5</td>\n",
       "      <td>2</td>\n",
       "      <td>2</td>\n",
       "      <td>1</td>\n",
       "      <td>1</td>\n",
       "      <td>1</td>\n",
       "      <td>17620</td>\n",
       "      <td>6.8</td>\n",
       "      <td>17438</td>\n",
       "      <td>240</td>\n",
       "      <td>52</td>\n",
       "      <td>2908</td>\n",
       "      <td>1173</td>\n",
       "      <td>24.0</td>\n",
       "      <td>1762.0</td>\n",
       "    </tr>\n",
       "    <tr>\n",
       "      <th>2</th>\n",
       "      <td>4521474530</td>\n",
       "      <td>0</td>\n",
       "      <td>15</td>\n",
       "      <td>0</td>\n",
       "      <td>0</td>\n",
       "      <td>7</td>\n",
       "      <td>11</td>\n",
       "      <td>4</td>\n",
       "      <td>1</td>\n",
       "      <td>1</td>\n",
       "      <td>0</td>\n",
       "      <td>0</td>\n",
       "      <td>16113</td>\n",
       "      <td>6.4</td>\n",
       "      <td>16221</td>\n",
       "      <td>186</td>\n",
       "      <td>46</td>\n",
       "      <td>-1172</td>\n",
       "      <td>-1033</td>\n",
       "      <td>18.6</td>\n",
       "      <td>1611.3</td>\n",
       "      <td>15</td>\n",
       "      <td>3</td>\n",
       "      <td>1</td>\n",
       "      <td>11</td>\n",
       "      <td>7</td>\n",
       "      <td>14</td>\n",
       "      <td>0</td>\n",
       "      <td>0</td>\n",
       "      <td>0</td>\n",
       "      <td>0</td>\n",
       "      <td>17285</td>\n",
       "      <td>6.8</td>\n",
       "      <td>17254</td>\n",
       "      <td>203</td>\n",
       "      <td>28</td>\n",
       "      <td>1172</td>\n",
       "      <td>1033</td>\n",
       "      <td>20.3</td>\n",
       "      <td>1728.5</td>\n",
       "    </tr>\n",
       "    <tr>\n",
       "      <th>3</th>\n",
       "      <td>4524384067</td>\n",
       "      <td>0</td>\n",
       "      <td>43</td>\n",
       "      <td>1</td>\n",
       "      <td>0</td>\n",
       "      <td>4</td>\n",
       "      <td>5</td>\n",
       "      <td>5</td>\n",
       "      <td>1</td>\n",
       "      <td>0</td>\n",
       "      <td>1</td>\n",
       "      <td>0</td>\n",
       "      <td>15157</td>\n",
       "      <td>7.0</td>\n",
       "      <td>17954</td>\n",
       "      <td>201</td>\n",
       "      <td>55</td>\n",
       "      <td>-1321</td>\n",
       "      <td>-7</td>\n",
       "      <td>20.1</td>\n",
       "      <td>1515.7</td>\n",
       "      <td>15</td>\n",
       "      <td>2</td>\n",
       "      <td>1</td>\n",
       "      <td>5</td>\n",
       "      <td>4</td>\n",
       "      <td>10</td>\n",
       "      <td>0</td>\n",
       "      <td>0</td>\n",
       "      <td>0</td>\n",
       "      <td>0</td>\n",
       "      <td>16478</td>\n",
       "      <td>7.0</td>\n",
       "      <td>17961</td>\n",
       "      <td>235</td>\n",
       "      <td>47</td>\n",
       "      <td>1321</td>\n",
       "      <td>7</td>\n",
       "      <td>23.5</td>\n",
       "      <td>1647.8</td>\n",
       "    </tr>\n",
       "    <tr>\n",
       "      <th>4</th>\n",
       "      <td>4436033771</td>\n",
       "      <td>0</td>\n",
       "      <td>75</td>\n",
       "      <td>4</td>\n",
       "      <td>0</td>\n",
       "      <td>6</td>\n",
       "      <td>6</td>\n",
       "      <td>6</td>\n",
       "      <td>0</td>\n",
       "      <td>0</td>\n",
       "      <td>0</td>\n",
       "      <td>0</td>\n",
       "      <td>16400</td>\n",
       "      <td>7.0</td>\n",
       "      <td>18543</td>\n",
       "      <td>210</td>\n",
       "      <td>57</td>\n",
       "      <td>-1004</td>\n",
       "      <td>230</td>\n",
       "      <td>21.0</td>\n",
       "      <td>1640.0</td>\n",
       "      <td>17</td>\n",
       "      <td>2</td>\n",
       "      <td>1</td>\n",
       "      <td>6</td>\n",
       "      <td>6</td>\n",
       "      <td>7</td>\n",
       "      <td>1</td>\n",
       "      <td>1</td>\n",
       "      <td>0</td>\n",
       "      <td>0</td>\n",
       "      <td>17404</td>\n",
       "      <td>7.0</td>\n",
       "      <td>18313</td>\n",
       "      <td>225</td>\n",
       "      <td>67</td>\n",
       "      <td>1004</td>\n",
       "      <td>-230</td>\n",
       "      <td>22.5</td>\n",
       "      <td>1740.4</td>\n",
       "    </tr>\n",
       "  </tbody>\n",
       "</table>\n",
       "</div>"
      ],
      "text/plain": [
       "       gameId  blueWins  blueWardsPlaced  blueWardsDestroyed  blueFirstBlood  \\\n",
       "0  4519157822         0               28                   2               1   \n",
       "1  4523371949         0               12                   1               0   \n",
       "2  4521474530         0               15                   0               0   \n",
       "3  4524384067         0               43                   1               0   \n",
       "4  4436033771         0               75                   4               0   \n",
       "\n",
       "   blueKills  blueDeaths  blueAssists  blueEliteMonsters  blueDragons  \\\n",
       "0          9           6           11                  0            0   \n",
       "1          5           5            5                  0            0   \n",
       "2          7          11            4                  1            1   \n",
       "3          4           5            5                  1            0   \n",
       "4          6           6            6                  0            0   \n",
       "\n",
       "   blueHeralds  blueTowersDestroyed  blueTotalGold  blueAvgLevel  \\\n",
       "0            0                    0          17210           6.6   \n",
       "1            0                    0          14712           6.6   \n",
       "2            0                    0          16113           6.4   \n",
       "3            1                    0          15157           7.0   \n",
       "4            0                    0          16400           7.0   \n",
       "\n",
       "   blueTotalExperience  blueTotalMinionsKilled  blueTotalJungleMinionsKilled  \\\n",
       "0                17039                     195                            36   \n",
       "1                16265                     174                            43   \n",
       "2                16221                     186                            46   \n",
       "3                17954                     201                            55   \n",
       "4                18543                     210                            57   \n",
       "\n",
       "   blueGoldDiff  blueExperienceDiff  blueCSPerMin  blueGoldPerMin  \\\n",
       "0           643                  -8          19.5          1721.0   \n",
       "1         -2908               -1173          17.4          1471.2   \n",
       "2         -1172               -1033          18.6          1611.3   \n",
       "3         -1321                  -7          20.1          1515.7   \n",
       "4         -1004                 230          21.0          1640.0   \n",
       "\n",
       "   redWardsPlaced  redWardsDestroyed  redFirstBlood  redKills  redDeaths  \\\n",
       "0              15                  6              0         6          9   \n",
       "1              12                  1              1         5          5   \n",
       "2              15                  3              1        11          7   \n",
       "3              15                  2              1         5          4   \n",
       "4              17                  2              1         6          6   \n",
       "\n",
       "   redAssists  redEliteMonsters  redDragons  redHeralds  redTowersDestroyed  \\\n",
       "0           8                 0           0           0                   0   \n",
       "1           2                 2           1           1                   1   \n",
       "2          14                 0           0           0                   0   \n",
       "3          10                 0           0           0                   0   \n",
       "4           7                 1           1           0                   0   \n",
       "\n",
       "   redTotalGold  redAvgLevel  redTotalExperience  redTotalMinionsKilled  \\\n",
       "0         16567          6.8               17047                    197   \n",
       "1         17620          6.8               17438                    240   \n",
       "2         17285          6.8               17254                    203   \n",
       "3         16478          7.0               17961                    235   \n",
       "4         17404          7.0               18313                    225   \n",
       "\n",
       "   redTotalJungleMinionsKilled  redGoldDiff  redExperienceDiff  redCSPerMin  \\\n",
       "0                           55         -643                  8         19.7   \n",
       "1                           52         2908               1173         24.0   \n",
       "2                           28         1172               1033         20.3   \n",
       "3                           47         1321                  7         23.5   \n",
       "4                           67         1004               -230         22.5   \n",
       "\n",
       "   redGoldPerMin  \n",
       "0         1656.7  \n",
       "1         1762.0  \n",
       "2         1728.5  \n",
       "3         1647.8  \n",
       "4         1740.4  "
      ]
     },
     "execution_count": 3,
     "metadata": {},
     "output_type": "execute_result"
    }
   ],
   "source": [
    "pd.set_option('display.max_columns', None)\n",
    "\n",
    "filepath = 'data/high_diamond_ranked_10min.csv'\n",
    "df = pd.read_csv(filepath)\n",
    "df.head()"
   ]
  },
  {
   "cell_type": "code",
   "execution_count": 4,
   "metadata": {},
   "outputs": [
    {
     "data": {
      "text/plain": [
       "np.False_"
      ]
     },
     "execution_count": 4,
     "metadata": {},
     "output_type": "execute_result"
    }
   ],
   "source": [
    "# It seems that there is no missing data\n",
    "df.isnull().sum().any()"
   ]
  },
  {
   "cell_type": "code",
   "execution_count": 5,
   "metadata": {},
   "outputs": [
    {
     "data": {
      "text/plain": [
       "blueWins\n",
       "0    4949\n",
       "1    4930\n",
       "dtype: int64"
      ]
     },
     "execution_count": 5,
     "metadata": {},
     "output_type": "execute_result"
    }
   ],
   "source": [
    "# Win and Lose are balanced. What a pretty and neat dataset! \n",
    "df.groupby(by='blueWins').size()"
   ]
  },
  {
   "cell_type": "markdown",
   "metadata": {},
   "source": [
    "### Feature Engineering \n",
    "* blueKills, redKills – The kills made by each team. A direct metric of how good the team is\n",
    "* blueFirstBlood, redFirstBlood – Which team made the first kill. Yes, we gotta start on the right foot!\n",
    "* blueDeath, redDeath – Just the flipped variables of the previous ones  \n",
    "* blueAssits, redAssits – Attacks from players of each team, which did not lead to final dealing. In a way, these features are representing the team collaboration\n",
    "* blueAvgLevel, redAvgLevel – Average level of champions per each team\n",
    "* blueExp, redExp, blueGold, redGold – Experience stat and Gold gained by each team.  \n",
    "* blueDragons, blueHeralds, blueEliteMonsters, redDragons, redHeralds, redEliteMonsters – How many Dragons and Heralds were killed by a team. Each count can be a good predictor of wins since they are powerful, elite monsters in games\n",
    "* blueTotalMinionsKilled, blueJungleMinionsKilled, redTotalMinionsKilled, redJungleMinionsKilled – kill count of miscellaneous monsters\n",
    "* blueWardsPlaced, blueWardsDestroyed, redWardsPlaced, redWardsDestroyed – Wards are one of the deployable units to get different benefits. So the number of placements or destructions are representing active or dominant gameplay in the first 10 minutes\n",
    "* blueTowersDestroyed, redTowersDestroyed – The number of opponent turrets destroyed by each team. Also a useful index of the aggressive unfolding of a game\n",
    "* Comparative or aggregational features – Variables such as the difference of Gold amount between teams(redGoldDiff) or how many monsters were killed per minute(blueCSPerMin)"
   ]
  },
  {
   "cell_type": "markdown",
   "metadata": {},
   "source": [
    "When checking out the histogram of each feature, I found that many quantitative variables show a moderate bell-shaped curve. So, going with Gaussian Naïve Bayesian is not a bad idea."
   ]
  },
  {
   "cell_type": "code",
   "execution_count": 6,
   "metadata": {
    "tags": []
   },
   "outputs": [
    {
     "data": {
      "image/png": "[encoded data removed]",
      "text/plain": [
       "<Figure size 1400x1400 with 42 Axes>"
      ]
     },
     "metadata": {},
     "output_type": "display_data"
    }
   ],
   "source": [
    "df.iloc[:,2:].sample(1000).hist(figsize=(14,14))\n",
    "plt.rcParams['axes.titlesize'] = 5\n",
    "plt.subplots_adjust(hspace=1)\n",
    "plt.show()\n"
   ]
  },
  {
   "cell_type": "markdown",
   "metadata": {},
   "source": [
    "I might as well apply binning for these skewed features. For instance, the Wards grants sights on the game map, and I see weirdly high outliers while 75% quantile ward numbers are 20. Considering median value 16 and the game behavior, it makes sense to transform such variables into ordinal values"
   ]
  },
  {
   "cell_type": "code",
   "execution_count": 7,
   "metadata": {},
   "outputs": [
    {
     "data": {
      "image/png": "[encoded data removed]",
      "text/plain": [
       "<Figure size 1000x400 with 1 Axes>"
      ]
     },
     "metadata": {},
     "output_type": "display_data"
    }
   ],
   "source": [
    "df[['blueWardsPlaced', 'redWardsPlaced']].boxplot(figsize=(10,4), vert=False)\n",
    "plt.rcParams['axes.titlesize'] = 15\n",
    "plt.show()"
   ]
  },
  {
   "cell_type": "code",
   "execution_count": 8,
   "metadata": {},
   "outputs": [
    {
     "data": {
      "text/html": [
       "<div>\n",
       "<style scoped>\n",
       "    .dataframe tbody tr th:only-of-type {\n",
       "        vertical-align: middle;\n",
       "    }\n",
       "\n",
       "    .dataframe tbody tr th {\n",
       "        vertical-align: top;\n",
       "    }\n",
       "\n",
       "    .dataframe thead th {\n",
       "        text-align: right;\n",
       "    }\n",
       "</style>\n",
       "<table border=\"1\" class=\"dataframe\">\n",
       "  <thead>\n",
       "    <tr style=\"text-align: right;\">\n",
       "      <th></th>\n",
       "      <th>blueWardsPlaced</th>\n",
       "      <th>redWardsPlaced</th>\n",
       "      <th>blueWardsDestroyed</th>\n",
       "      <th>redWardsDestroyed</th>\n",
       "    </tr>\n",
       "  </thead>\n",
       "  <tbody>\n",
       "    <tr>\n",
       "      <th>count</th>\n",
       "      <td>9879.000000</td>\n",
       "      <td>9879.000000</td>\n",
       "      <td>9879.000000</td>\n",
       "      <td>9879.000000</td>\n",
       "    </tr>\n",
       "    <tr>\n",
       "      <th>mean</th>\n",
       "      <td>22.288288</td>\n",
       "      <td>22.367952</td>\n",
       "      <td>2.824881</td>\n",
       "      <td>2.723150</td>\n",
       "    </tr>\n",
       "    <tr>\n",
       "      <th>std</th>\n",
       "      <td>18.019177</td>\n",
       "      <td>18.457427</td>\n",
       "      <td>2.174998</td>\n",
       "      <td>2.138356</td>\n",
       "    </tr>\n",
       "    <tr>\n",
       "      <th>min</th>\n",
       "      <td>5.000000</td>\n",
       "      <td>6.000000</td>\n",
       "      <td>0.000000</td>\n",
       "      <td>0.000000</td>\n",
       "    </tr>\n",
       "    <tr>\n",
       "      <th>25%</th>\n",
       "      <td>14.000000</td>\n",
       "      <td>14.000000</td>\n",
       "      <td>1.000000</td>\n",
       "      <td>1.000000</td>\n",
       "    </tr>\n",
       "    <tr>\n",
       "      <th>50%</th>\n",
       "      <td>16.000000</td>\n",
       "      <td>16.000000</td>\n",
       "      <td>3.000000</td>\n",
       "      <td>2.000000</td>\n",
       "    </tr>\n",
       "    <tr>\n",
       "      <th>75%</th>\n",
       "      <td>20.000000</td>\n",
       "      <td>20.000000</td>\n",
       "      <td>4.000000</td>\n",
       "      <td>4.000000</td>\n",
       "    </tr>\n",
       "    <tr>\n",
       "      <th>max</th>\n",
       "      <td>250.000000</td>\n",
       "      <td>276.000000</td>\n",
       "      <td>27.000000</td>\n",
       "      <td>24.000000</td>\n",
       "    </tr>\n",
       "  </tbody>\n",
       "</table>\n",
       "</div>"
      ],
      "text/plain": [
       "       blueWardsPlaced  redWardsPlaced  blueWardsDestroyed  redWardsDestroyed\n",
       "count      9879.000000     9879.000000         9879.000000        9879.000000\n",
       "mean         22.288288       22.367952            2.824881           2.723150\n",
       "std          18.019177       18.457427            2.174998           2.138356\n",
       "min           5.000000        6.000000            0.000000           0.000000\n",
       "25%          14.000000       14.000000            1.000000           1.000000\n",
       "50%          16.000000       16.000000            3.000000           2.000000\n",
       "75%          20.000000       20.000000            4.000000           4.000000\n",
       "max         250.000000      276.000000           27.000000          24.000000"
      ]
     },
     "execution_count": 8,
     "metadata": {},
     "output_type": "execute_result"
    }
   ],
   "source": [
    "df[['blueWardsPlaced', 'redWardsPlaced', 'blueWardsDestroyed', 'redWardsDestroyed']].describe()"
   ]
  },
  {
   "cell_type": "code",
   "execution_count": 9,
   "metadata": {},
   "outputs": [],
   "source": [
    "# quantizing four skewed variables \n",
    "df['blueWardsPlaced'] = pd.cut(df['blueWardsPlaced'], bins=[-float('inf'), 14,16,20, float('inf')], labels=False)\n",
    "df['redWardsPlaced'] = pd.cut(df['redWardsPlaced'], bins=[-float('inf'), 14,16,20, float('inf')], labels=False)\n",
    "df['blueWardsDestroyed'] = pd.cut(df['blueWardsDestroyed'], bins=[-float('inf'), 1,3,4, float('inf')], labels=False)\n",
    "df['redWardsDestroyed'] = pd.cut(df['redWardsDestroyed'], bins=[-float('inf'), 1,3,4, float('inf')], labels=False)\n"
   ]
  },
  {
   "cell_type": "code",
   "execution_count": 10,
   "metadata": {},
   "outputs": [
    {
     "data": {
      "text/plain": [
       "blueWardsPlaced\n",
       "0    2508\n",
       "1    2472\n",
       "2    2590\n",
       "3    2309\n",
       "dtype: int64"
      ]
     },
     "execution_count": 10,
     "metadata": {},
     "output_type": "execute_result"
    }
   ],
   "source": [
    "# now they are balanced, categorical variables \n",
    "df.groupby(by='blueWardsPlaced').size()"
   ]
  },
  {
   "cell_type": "markdown",
   "metadata": {},
   "source": [
    "As we can see from the above, some variables are direct linear combinations of other variables. For instance, the number of Kills by Blue team is technically the same as the number of Deaths by the Red team. And it is natural that golds, kills, experience, or level would be correlated as winning teams would show gain higher points. Take a look at a higher correlation between ‘redTotalGold’ and ‘blueDeaths(kills by Red)’ or ‘redGoldPerMin’ and ‘blueDeaths’ from the correlation plot. Those squares glow in crimson color (Pearson’s R > 0.85)"
   ]
  },
  {
   "cell_type": "code",
   "execution_count": 11,
   "metadata": {},
   "outputs": [
    {
     "data": {
      "image/png": "[encoded data removed]",
      "text/plain": [
       "<Figure size 1200x1200 with 2 Axes>"
      ]
     },
     "metadata": {},
     "output_type": "display_data"
    }
   ],
   "source": [
    "corr = np.abs(df.iloc[:,2:].corr())\n",
    "fig, ax = plt.subplots(figsize=(12,12))\n",
    "plt.rcParams['axes.titlesize'] = 15\n",
    "sns.heatmap(corr, cmap='coolwarm', ax=ax)\n",
    "plt.title('Correlation Among Variables')\n",
    "plt.show()"
   ]
  },
  {
   "cell_type": "code",
   "execution_count": 12,
   "metadata": {},
   "outputs": [],
   "source": [
    "corr = np.abs(df.iloc[:,2:].corr())\n",
    "corr = corr.stack().reset_index()\n",
    "corr.columns = ['feature_1', 'feature_2', 'correlation(abs)']\n",
    "# remove diagonal tuples (correlation to a self)\n",
    "corr = corr[corr['feature_1'] != corr['feature_2']]\n",
    "# remove duplicated lower left tuples under the diagonal line\n",
    "# refer to https://stackoverflow.com/questions/48395350/how-to-remove-duplicates-from-correlation-in-pandas \n",
    "corr['ordered_cols'] = corr.apply(lambda x: '-'.join(sorted([x['feature_1'], x['feature_2']])), axis=1)\n",
    "corr = corr.drop_duplicates(['ordered_cols'])\n",
    "corr.drop(['ordered_cols'], axis=1, inplace=True)"
   ]
  },
  {
   "cell_type": "code",
   "execution_count": 13,
   "metadata": {
    "tags": []
   },
   "outputs": [],
   "source": [
    "high_corr = corr[corr['correlation(abs)'] >= 0.7].sort_values(by='correlation(abs)', ascending=False)\n",
    "pd.set_option('display.max_rows', None)"
   ]
  },
  {
   "cell_type": "markdown",
   "metadata": {},
   "source": [
    "The variable tuples that showed correlation value 1.0 seems to be consisted of the same variables or flipped couples. For instance, the 'blueKills', the number of kills by Blue team is essentially the 'redDeaths', the number of death counts by Red team. So we can remove such duplicated variables from the feature list "
   ]
  },
  {
   "cell_type": "code",
   "execution_count": 14,
   "metadata": {},
   "outputs": [
    {
     "data": {
      "text/html": [
       "<div>\n",
       "<style scoped>\n",
       "    .dataframe tbody tr th:only-of-type {\n",
       "        vertical-align: middle;\n",
       "    }\n",
       "\n",
       "    .dataframe tbody tr th {\n",
       "        vertical-align: top;\n",
       "    }\n",
       "\n",
       "    .dataframe thead th {\n",
       "        text-align: right;\n",
       "    }\n",
       "</style>\n",
       "<table border=\"1\" class=\"dataframe\">\n",
       "  <thead>\n",
       "    <tr style=\"text-align: right;\">\n",
       "      <th></th>\n",
       "      <th>feature_1</th>\n",
       "      <th>feature_2</th>\n",
       "      <th>correlation(abs)</th>\n",
       "    </tr>\n",
       "  </thead>\n",
       "  <tbody>\n",
       "    <tr>\n",
       "      <th>643</th>\n",
       "      <td>blueExperienceDiff</td>\n",
       "      <td>redExperienceDiff</td>\n",
       "      <td>1.0</td>\n",
       "    </tr>\n",
       "    <tr>\n",
       "      <th>604</th>\n",
       "      <td>blueGoldDiff</td>\n",
       "      <td>redGoldDiff</td>\n",
       "      <td>1.0</td>\n",
       "    </tr>\n",
       "    <tr>\n",
       "      <th>137</th>\n",
       "      <td>blueKills</td>\n",
       "      <td>redDeaths</td>\n",
       "      <td>1.0</td>\n",
       "    </tr>\n",
       "    <tr>\n",
       "      <th>174</th>\n",
       "      <td>blueDeaths</td>\n",
       "      <td>redKills</td>\n",
       "      <td>1.0</td>\n",
       "    </tr>\n",
       "  </tbody>\n",
       "</table>\n",
       "</div>"
      ],
      "text/plain": [
       "              feature_1          feature_2  correlation(abs)\n",
       "643  blueExperienceDiff  redExperienceDiff               1.0\n",
       "604        blueGoldDiff        redGoldDiff               1.0\n",
       "137           blueKills          redDeaths               1.0\n",
       "174          blueDeaths           redKills               1.0"
      ]
     },
     "execution_count": 14,
     "metadata": {},
     "output_type": "execute_result"
    }
   ],
   "source": [
    "high_corr[high_corr['correlation(abs)'] == 1]"
   ]
  },
  {
   "cell_type": "code",
   "execution_count": 15,
   "metadata": {},
   "outputs": [],
   "source": [
    "# append features to remove later \n",
    "features_to_remove = list()\n",
    "features_to_remove.extend(['redFirstBlood', 'redExperienceDiff', 'redGoldDiff', 'redDeaths', 'redKills'])"
   ]
  },
  {
   "cell_type": "markdown",
   "metadata": {},
   "source": [
    "From the remaining list, we will remove variables from apparant linear combination of other variables. For instance, the gold amount difference between two teams('redGoldDiff', 'blueGoldDiff') can be removed. The same goes with 'Elite Monster Kills' which is a sum of 'Harolds Kill' and 'Dragons Kill'. And features such as 'blueGoldPerMin' is somewhat funky to calculate compared to 'blueKills', so will be removed. Lastly, 'total experience' is chosen over 'average champion levels' as both parties showed high correlation"
   ]
  },
  {
   "cell_type": "code",
   "execution_count": 16,
   "metadata": {},
   "outputs": [
    {
     "data": {
      "text/html": [
       "<div>\n",
       "<style scoped>\n",
       "    .dataframe tbody tr th:only-of-type {\n",
       "        vertical-align: middle;\n",
       "    }\n",
       "\n",
       "    .dataframe tbody tr th {\n",
       "        vertical-align: top;\n",
       "    }\n",
       "\n",
       "    .dataframe thead th {\n",
       "        text-align: right;\n",
       "    }\n",
       "</style>\n",
       "<table border=\"1\" class=\"dataframe\">\n",
       "  <thead>\n",
       "    <tr style=\"text-align: right;\">\n",
       "      <th></th>\n",
       "      <th>feature_1</th>\n",
       "      <th>feature_2</th>\n",
       "      <th>correlation(abs)</th>\n",
       "    </tr>\n",
       "  </thead>\n",
       "  <tbody>\n",
       "    <tr>\n",
       "      <th>1252</th>\n",
       "      <td>redTotalMinionsKilled</td>\n",
       "      <td>redCSPerMin</td>\n",
       "      <td>1.000000</td>\n",
       "    </tr>\n",
       "    <tr>\n",
       "      <th>1171</th>\n",
       "      <td>redAvgLevel</td>\n",
       "      <td>redTotalExperience</td>\n",
       "      <td>0.901748</td>\n",
       "    </tr>\n",
       "    <tr>\n",
       "      <th>430</th>\n",
       "      <td>blueAvgLevel</td>\n",
       "      <td>blueTotalExperience</td>\n",
       "      <td>0.901297</td>\n",
       "    </tr>\n",
       "    <tr>\n",
       "      <th>605</th>\n",
       "      <td>blueGoldDiff</td>\n",
       "      <td>redExperienceDiff</td>\n",
       "      <td>0.894729</td>\n",
       "    </tr>\n",
       "    <tr>\n",
       "      <th>586</th>\n",
       "      <td>blueGoldDiff</td>\n",
       "      <td>blueExperienceDiff</td>\n",
       "      <td>0.894729</td>\n",
       "    </tr>\n",
       "    <tr>\n",
       "      <th>642</th>\n",
       "      <td>blueExperienceDiff</td>\n",
       "      <td>redGoldDiff</td>\n",
       "      <td>0.894729</td>\n",
       "    </tr>\n",
       "    <tr>\n",
       "      <th>1327</th>\n",
       "      <td>redGoldDiff</td>\n",
       "      <td>redExperienceDiff</td>\n",
       "      <td>0.894729</td>\n",
       "    </tr>\n",
       "    <tr>\n",
       "      <th>124</th>\n",
       "      <td>blueKills</td>\n",
       "      <td>blueTotalGold</td>\n",
       "      <td>0.888751</td>\n",
       "    </tr>\n",
       "    <tr>\n",
       "      <th>403</th>\n",
       "      <td>blueTotalGold</td>\n",
       "      <td>redDeaths</td>\n",
       "      <td>0.888751</td>\n",
       "    </tr>\n",
       "    <tr>\n",
       "      <th>132</th>\n",
       "      <td>blueKills</td>\n",
       "      <td>blueGoldPerMin</td>\n",
       "      <td>0.888751</td>\n",
       "    </tr>\n",
       "    <tr>\n",
       "      <th>707</th>\n",
       "      <td>blueGoldPerMin</td>\n",
       "      <td>redDeaths</td>\n",
       "      <td>0.888751</td>\n",
       "    </tr>\n",
       "    <tr>\n",
       "      <th>873</th>\n",
       "      <td>redKills</td>\n",
       "      <td>redGoldPerMin</td>\n",
       "      <td>0.885728</td>\n",
       "    </tr>\n",
       "    <tr>\n",
       "      <th>189</th>\n",
       "      <td>blueDeaths</td>\n",
       "      <td>redGoldPerMin</td>\n",
       "      <td>0.885728</td>\n",
       "    </tr>\n",
       "    <tr>\n",
       "      <th>181</th>\n",
       "      <td>blueDeaths</td>\n",
       "      <td>redTotalGold</td>\n",
       "      <td>0.885728</td>\n",
       "    </tr>\n",
       "    <tr>\n",
       "      <th>865</th>\n",
       "      <td>redKills</td>\n",
       "      <td>redTotalGold</td>\n",
       "      <td>0.885728</td>\n",
       "    </tr>\n",
       "    <tr>\n",
       "      <th>414</th>\n",
       "      <td>blueTotalGold</td>\n",
       "      <td>redGoldDiff</td>\n",
       "      <td>0.816803</td>\n",
       "    </tr>\n",
       "    <tr>\n",
       "      <th>395</th>\n",
       "      <td>blueTotalGold</td>\n",
       "      <td>blueGoldDiff</td>\n",
       "      <td>0.816803</td>\n",
       "    </tr>\n",
       "    <tr>\n",
       "      <th>718</th>\n",
       "      <td>blueGoldPerMin</td>\n",
       "      <td>redGoldDiff</td>\n",
       "      <td>0.816803</td>\n",
       "    </tr>\n",
       "    <tr>\n",
       "      <th>588</th>\n",
       "      <td>blueGoldDiff</td>\n",
       "      <td>blueGoldPerMin</td>\n",
       "      <td>0.816803</td>\n",
       "    </tr>\n",
       "    <tr>\n",
       "      <th>213</th>\n",
       "      <td>blueAssists</td>\n",
       "      <td>redDeaths</td>\n",
       "      <td>0.813667</td>\n",
       "    </tr>\n",
       "    <tr>\n",
       "      <th>119</th>\n",
       "      <td>blueKills</td>\n",
       "      <td>blueAssists</td>\n",
       "      <td>0.813667</td>\n",
       "    </tr>\n",
       "    <tr>\n",
       "      <th>976</th>\n",
       "      <td>redEliteMonsters</td>\n",
       "      <td>redDragons</td>\n",
       "      <td>0.811234</td>\n",
       "    </tr>\n",
       "    <tr>\n",
       "      <th>1329</th>\n",
       "      <td>redGoldDiff</td>\n",
       "      <td>redGoldPerMin</td>\n",
       "      <td>0.804347</td>\n",
       "    </tr>\n",
       "    <tr>\n",
       "      <th>607</th>\n",
       "      <td>blueGoldDiff</td>\n",
       "      <td>redGoldPerMin</td>\n",
       "      <td>0.804347</td>\n",
       "    </tr>\n",
       "    <tr>\n",
       "      <th>1136</th>\n",
       "      <td>redTotalGold</td>\n",
       "      <td>redGoldDiff</td>\n",
       "      <td>0.804347</td>\n",
       "    </tr>\n",
       "    <tr>\n",
       "      <th>599</th>\n",
       "      <td>blueGoldDiff</td>\n",
       "      <td>redTotalGold</td>\n",
       "      <td>0.804347</td>\n",
       "    </tr>\n",
       "    <tr>\n",
       "      <th>176</th>\n",
       "      <td>blueDeaths</td>\n",
       "      <td>redAssists</td>\n",
       "      <td>0.804023</td>\n",
       "    </tr>\n",
       "    <tr>\n",
       "      <th>860</th>\n",
       "      <td>redKills</td>\n",
       "      <td>redAssists</td>\n",
       "      <td>0.804023</td>\n",
       "    </tr>\n",
       "    <tr>\n",
       "      <th>472</th>\n",
       "      <td>blueTotalExperience</td>\n",
       "      <td>blueExperienceDiff</td>\n",
       "      <td>0.800815</td>\n",
       "    </tr>\n",
       "    <tr>\n",
       "      <th>491</th>\n",
       "      <td>blueTotalExperience</td>\n",
       "      <td>redExperienceDiff</td>\n",
       "      <td>0.800815</td>\n",
       "    </tr>\n",
       "    <tr>\n",
       "      <th>1213</th>\n",
       "      <td>redTotalExperience</td>\n",
       "      <td>redExperienceDiff</td>\n",
       "      <td>0.800089</td>\n",
       "    </tr>\n",
       "    <tr>\n",
       "      <th>639</th>\n",
       "      <td>blueExperienceDiff</td>\n",
       "      <td>redTotalExperience</td>\n",
       "      <td>0.800089</td>\n",
       "    </tr>\n",
       "  </tbody>\n",
       "</table>\n",
       "</div>"
      ],
      "text/plain": [
       "                  feature_1            feature_2  correlation(abs)\n",
       "1252  redTotalMinionsKilled          redCSPerMin          1.000000\n",
       "1171            redAvgLevel   redTotalExperience          0.901748\n",
       "430            blueAvgLevel  blueTotalExperience          0.901297\n",
       "605            blueGoldDiff    redExperienceDiff          0.894729\n",
       "586            blueGoldDiff   blueExperienceDiff          0.894729\n",
       "642      blueExperienceDiff          redGoldDiff          0.894729\n",
       "1327            redGoldDiff    redExperienceDiff          0.894729\n",
       "124               blueKills        blueTotalGold          0.888751\n",
       "403           blueTotalGold            redDeaths          0.888751\n",
       "132               blueKills       blueGoldPerMin          0.888751\n",
       "707          blueGoldPerMin            redDeaths          0.888751\n",
       "873                redKills        redGoldPerMin          0.885728\n",
       "189              blueDeaths        redGoldPerMin          0.885728\n",
       "181              blueDeaths         redTotalGold          0.885728\n",
       "865                redKills         redTotalGold          0.885728\n",
       "414           blueTotalGold          redGoldDiff          0.816803\n",
       "395           blueTotalGold         blueGoldDiff          0.816803\n",
       "718          blueGoldPerMin          redGoldDiff          0.816803\n",
       "588            blueGoldDiff       blueGoldPerMin          0.816803\n",
       "213             blueAssists            redDeaths          0.813667\n",
       "119               blueKills          blueAssists          0.813667\n",
       "976        redEliteMonsters           redDragons          0.811234\n",
       "1329            redGoldDiff        redGoldPerMin          0.804347\n",
       "607            blueGoldDiff        redGoldPerMin          0.804347\n",
       "1136           redTotalGold          redGoldDiff          0.804347\n",
       "599            blueGoldDiff         redTotalGold          0.804347\n",
       "176              blueDeaths           redAssists          0.804023\n",
       "860                redKills           redAssists          0.804023\n",
       "472     blueTotalExperience   blueExperienceDiff          0.800815\n",
       "491     blueTotalExperience    redExperienceDiff          0.800815\n",
       "1213     redTotalExperience    redExperienceDiff          0.800089\n",
       "639      blueExperienceDiff   redTotalExperience          0.800089"
      ]
     },
     "execution_count": 16,
     "metadata": {},
     "output_type": "execute_result"
    }
   ],
   "source": [
    "high_corr[(high_corr['correlation(abs)'] >= 0.80) & (high_corr['correlation(abs)'] < 1.0)]"
   ]
  },
  {
   "cell_type": "code",
   "execution_count": 17,
   "metadata": {},
   "outputs": [
    {
     "data": {
      "text/plain": [
       "(9879, 25)"
      ]
     },
     "execution_count": 17,
     "metadata": {},
     "output_type": "execute_result"
    }
   ],
   "source": [
    "features_to_remove.extend(['blueExperienceDiff', 'blueGoldPerMin', 'redGoldPerMin', 'blueGoldDiff', 'blueEliteMonsters', 'redEliteMonsters', 'redAvgLevel', 'blueAvgLevel', 'blueCSPerMin', 'redCSPerMin' ])\n",
    "df.drop(features_to_remove, axis=1, inplace=True)\n",
    "df.shape"
   ]
  },
  {
   "cell_type": "markdown",
   "metadata": {},
   "source": [
    "### Prediction Performance \n",
    "To measure the performance of prediction, I decided to set aside 20% of data for testing and compare the metric to spot-check results from Random Forest."
   ]
  },
  {
   "cell_type": "code",
   "execution_count": 18,
   "metadata": {},
   "outputs": [],
   "source": [
    "X = df.drop(['gameId','blueWins'], axis=1).values\n",
    "y = df['blueWins'].values\n",
    "test_size = 0.2 \n",
    "seed = 42 \n",
    "X_train, X_test, y_train, y_test = train_test_split(X, y, test_size = test_size, random_state=seed, stratify=y)"
   ]
  },
  {
   "cell_type": "markdown",
   "metadata": {},
   "source": [
    "The accuracy of the Naive Bayesian classifier was around 0.73 with the train set and 0.71 when applied onto the test set. The figures are aligned with the baseline performance from Random Forest\n"
   ]
  },
  {
   "cell_type": "code",
   "execution_count": 19,
   "metadata": {},
   "outputs": [],
   "source": [
    "models = []\n",
    "models.append(('NB', GaussianNB()))\n",
    "models.append(('RF', RandomForestClassifier()))\n"
   ]
  },
  {
   "cell_type": "code",
   "execution_count": 21,
   "metadata": {
    "tags": []
   },
   "outputs": [
    {
     "name": "stdout",
     "output_type": "stream",
     "text": [
      "NB accuracy (train): 0.7258 (std 0.0161)\n",
      "RF accuracy (train): 0.7215 (std 0.0147)\n"
     ]
    }
   ],
   "source": [
    "accuracy_results = []\n",
    "model_names = []\n",
    "\n",
    "for name, model in models:\n",
    "    kfold = StratifiedKFold(n_splits=5, random_state=seed, shuffle=True)\n",
    "    cv_results = cross_val_score(model, X_train, y_train, cv=kfold, scoring='accuracy')\n",
    "    accuracy_results.append(cv_results)\n",
    "    model_names.append(name)\n",
    "\n",
    "    print('%s accuracy (train): %2.4f (std %2.4f)' % (name, cv_results.mean(), cv_results.std())) \n",
    "\n"
   ]
  },
  {
   "cell_type": "markdown",
   "metadata": {},
   "source": [
    "So I decided not to pursue any further to increase the accuracy or f1-score metric. And it is in a way satisfying that a team can come from behind and win even though they messed up the first ten minutes."
   ]
  },
  {
   "cell_type": "code",
   "execution_count": 22,
   "metadata": {
    "tags": []
   },
   "outputs": [
    {
     "name": "stdout",
     "output_type": "stream",
     "text": [
      "Naive Bayesian accuracy (test): 0.7105 \n",
      "\n",
      "              precision    recall  f1-score   support\n",
      "\n",
      "           0       0.71      0.72      0.71       990\n",
      "           1       0.71      0.70      0.71       986\n",
      "\n",
      "    accuracy                           0.71      1976\n",
      "   macro avg       0.71      0.71      0.71      1976\n",
      "weighted avg       0.71      0.71      0.71      1976\n",
      "\n"
     ]
    }
   ],
   "source": [
    "nb_clf = GaussianNB()\n",
    "nb_clf.fit(X_train, y_train)\n",
    "test_result = accuracy_score(y_test, nb_clf.predict(X_test))\n",
    "\n",
    "print('Naive Bayesian accuracy (test): %2.4f \\n' % test_result) \n",
    "print(classification_report(y_test, nb_clf.predict(X_test)))"
   ]
  },
  {
   "cell_type": "markdown",
   "metadata": {},
   "source": [
    "### Preparation for model serving \n",
    "To simulate the cycle of priors to new data to posterior to winning probability prediction, I imagined a Web-based dashboard that shows initial probabilities of wins(prior, 50% to 50%) and provides input forms to get the changing game data. To make this happen, it would be great to save the NB classifier as JOBLIB file"
   ]
  },
  {
   "cell_type": "code",
   "execution_count": 24,
   "metadata": {},
   "outputs": [
    {
     "data": {
      "text/plain": [
       "['serving/model.joblib']"
      ]
     },
     "execution_count": 24,
     "metadata": {},
     "output_type": "execute_result"
    }
   ],
   "source": [
    "joblib.dump(nb_clf, 'serving/model.joblib')"
   ]
  },
  {
   "cell_type": "code",
   "execution_count": 25,
   "metadata": {},
   "outputs": [],
   "source": [
    "df.to_csv('serving/high_diamond_imputed.csv')"
   ]
  },
  {
   "cell_type": "markdown",
   "metadata": {},
   "source": [
    "The Scikit-Learn implementation of Gaussian NB does not support the absense of certain features as of v0.22.1. So I decided to create custom prediction function to handle this. But the fitted theta/sigma(mean & std) of each feauture member from SKLearn will be just reused."
   ]
  },
  {
   "cell_type": "code",
   "execution_count": 26,
   "metadata": {},
   "outputs": [],
   "source": [
    "def binning(feature, bins):\n",
    "    \n",
    "    if not(feature is None):\n",
    "        digit_bin = [-float('inf')] + bins + [float('inf')]\n",
    "        feature = np.digitize(feature, digit_bin, right=False) -1\n",
    "        return feature \n",
    "    else:\n",
    "        return None"
   ]
  },
  {
   "cell_type": "code",
   "execution_count": 27,
   "metadata": {},
   "outputs": [],
   "source": [
    "def new_row_helper(blueWardsPlaced = None,\n",
    "    blueWardsDestroyed = None,\n",
    "    blueFirstBlood = None,\n",
    "    blueKills = None,\t\n",
    "    blueDeaths = None,\t\n",
    "    blueAssists = None,\t\n",
    "    blueDragons = None,\n",
    "    blueHeralds = None,\t\n",
    "    blueTowersDestroyed = None,\t\n",
    "    blueTotalGold = None,\t\n",
    "    blueTotalExperience = None,\n",
    "    blueTotalMinionsKilled = None,\t\n",
    "    blueTotalJungleMinionsKilled = None,\t\n",
    "    redWardsPlaced = None,\t\n",
    "    redWardsDestroyed = None,\t\n",
    "    redAssists = None,\t\n",
    "    redDragons = None,\t\n",
    "    redHeralds = None,\t\n",
    "    redTowersDestroyed = None,\t\n",
    "    redTotalGold = None,\t\n",
    "    redTotalExperience = None,\t\n",
    "    redTotalMinionsKilled = None,\t\n",
    "    redTotalJungleMinionsKilled = None\t\n",
    "    ):\n",
    "\n",
    "    ''' This fuctions gets feature values and create them into a single row dataframe for prediction.'''\n",
    "\n",
    "    # binning for four features\n",
    "\n",
    "    \n",
    "    blueWardsPlaced = binning(blueWardsPlaced, [14,16,20])\n",
    "    redWardsPlaced = binning(redWardsPlaced, [14,16,20])\n",
    "    blueWardsDestroyed = binning(blueWardsDestroyed, [1,3,4])\n",
    "    redWardsDestroyed = binning(redWardsDestroyed, [1,3,4])\n",
    "\n",
    "    test_row = np.array([blueWardsPlaced, blueWardsDestroyed, blueFirstBlood, blueKills, blueDeaths, blueAssists, blueDragons, blueHeralds, blueTowersDestroyed, blueTotalGold, blueTotalExperience, blueTotalMinionsKilled, blueTotalJungleMinionsKilled, redWardsPlaced, redWardsDestroyed, redAssists, redDragons, redHeralds, redTowersDestroyed, redTotalGold, redTotalExperience, redTotalMinionsKilled, redTotalJungleMinionsKilled])\n",
    "\n",
    "    return test_row"
   ]
  },
  {
   "cell_type": "code",
   "execution_count": 28,
   "metadata": {},
   "outputs": [],
   "source": [
    "# Preparing some test arrays with the custom Naive Bayesian predict function \n",
    "null_feature_instance = new_row_helper()\n",
    "partial_feature_instance1 = new_row_helper(blueWardsPlaced=18,blueKills=0)\n",
    "partial_feature_instance2 = new_row_helper(blueWardsPlaced=13,blueKills=0, blueTotalGold=3000)"
   ]
  },
  {
   "cell_type": "markdown",
   "metadata": {},
   "source": [
    "The mean, standard deviation and counts of each feature from NB classifier will be reshaped for the custom function"
   ]
  },
  {
   "cell_type": "code",
   "execution_count": 31,
   "metadata": {},
   "outputs": [],
   "source": [
    "reshaped_summary = {}\n",
    "\n",
    "for target in range(nb_clf.theta_.shape[0]):\n",
    "    lst = []\n",
    "    for feature in range(nb_clf.theta_.shape[1]):\n",
    "        lst.append((nb_clf.theta_[target][feature], nb_clf.var_[target][feature], nb_clf.class_count_[target]))\n",
    "    \n",
    "    reshaped_summary[target] = lst"
   ]
  },
  {
   "cell_type": "markdown",
   "metadata": {},
   "source": [
    "The prevention of underflow is essential when dealing with probabilistic models. The multiplication of small numbers can result in a much smaller number that flows over the precision point of python variables, thus lead to incorrect or unexpected outcomes. I refer to the Scikit Learn's naive-bayess.py code for the calculation of joint log likelihood and \n",
    "LogSumExp trick application https://github.com/scikit-learn/scikit-learn/blob/master/sklearn/naive_bayes.py"
   ]
  },
  {
   "cell_type": "code",
   "execution_count": 32,
   "metadata": {},
   "outputs": [],
   "source": [
    "def custom_predict_proba(summaries, test_row):\n",
    "    ''' This function gets gaussian summaries of each feature, a test row and return joint probabilities. '''\n",
    "    \n",
    "    total_rows =  sum([summaries[label][0][2] for label in summaries])\n",
    "    joint_log_likelihood = []\n",
    "\n",
    "    for class_value, class_summaries in summaries.items():\n",
    "        \n",
    "        jointi = np.log(summaries[class_value][0][2]/float(total_rows))\n",
    "        \n",
    "        for i in range(len(class_summaries)):\n",
    "            mean, stdev, _ = class_summaries[i]\n",
    "            #if not(np.isnan(test_row[i])):\n",
    "            if not(test_row[i] is None):\n",
    "                n_ij = -0.5 * np.sum(np.log(2. * np.pi * stdev))\n",
    "                n_ij -= 0.5 * np.sum(((test_row[i] - mean)**2) / stdev)\n",
    "                \n",
    "                jointi += n_ij\n",
    "\n",
    "        joint_log_likelihood.append(jointi)\n",
    "\n",
    "    log_sum_exp = np.log(np.sum(np.exp(joint_log_likelihood)))\n",
    "    proba = np.exp(joint_log_likelihood - log_sum_exp)\n",
    "    \n",
    "    blue_win_odds = round(proba[1] / proba[0], 4)\n",
    "    red_win_odds = round(proba[0] / proba[1], 4)\n",
    "    blue_win_prob = round(proba[1], 4)\n",
    "    red_win_prob = round(proba[0], 4)\n",
    "\n",
    "    if (blue_win_prob > red_win_prob):\n",
    "        blue_win = 1 \n",
    "    else: \n",
    "        blue_win = 0\n",
    "    \n",
    "    return blue_win, blue_win_odds, red_win_odds, blue_win_prob, red_win_prob"
   ]
  },
  {
   "cell_type": "markdown",
   "metadata": {},
   "source": [
    "Let's test of the function works for a test data with some features absent"
   ]
  },
  {
   "cell_type": "code",
   "execution_count": 33,
   "metadata": {
    "tags": []
   },
   "outputs": [
    {
     "name": "stdout",
     "output_type": "stream",
     "text": [
      "(0, np.float64(0.9962), np.float64(1.0038), np.float64(0.4991), np.float64(0.5009))\n"
     ]
    }
   ],
   "source": [
    "# When there is no feature data, the prior of 50% to 50% should be predicted \n",
    "print(custom_predict_proba(reshaped_summary, null_feature_instance))"
   ]
  },
  {
   "cell_type": "code",
   "execution_count": 34,
   "metadata": {
    "tags": []
   },
   "outputs": [
    {
     "name": "stdout",
     "output_type": "stream",
     "text": [
      "(0, np.float64(0.3827), np.float64(2.6127), np.float64(0.2768), np.float64(0.7232))\n"
     ]
    }
   ],
   "source": [
    "print(custom_predict_proba(reshaped_summary, partial_feature_instance1))"
   ]
  },
  {
   "cell_type": "code",
   "execution_count": 35,
   "metadata": {
    "tags": []
   },
   "outputs": [
    {
     "name": "stdout",
     "output_type": "stream",
     "text": [
      "(0, np.float64(0.3827), np.float64(2.6127), np.float64(0.2768), np.float64(0.7232))\n"
     ]
    }
   ],
   "source": [
    "print(custom_predict_proba(reshaped_summary, partial_feature_instance1))"
   ]
  },
  {
   "cell_type": "markdown",
   "metadata": {},
   "source": [
    "To show a plot in Dash, I might as well try a simple barplot with Ploty Graph Objects Library "
   ]
  },
  {
   "cell_type": "code",
   "execution_count": 36,
   "metadata": {},
   "outputs": [],
   "source": [
    "blue_win, blue_win_odds, red_win_odds, blue_win_prob, red_win_prob = custom_predict_proba(reshaped_summary, partial_feature_instance2)"
   ]
  },
  {
   "cell_type": "code",
   "execution_count": 37,
   "metadata": {},
   "outputs": [
    {
     "data": {
      "application/vnd.plotly.v1+json": {
       "config": {
        "plotlyServerURL": "https://plot.ly"
       },
       "data": [
        {
         "marker": {
          "color": [
           "skyblue",
           "crimson"
          ]
         },
         "orientation": "h",
         "text": [
          "94.52",
          "5.48"
         ],
         "textposition": "auto",
         "type": "bar",
         "width": [
          0.6,
          0.6
         ],
         "x": [
          94.52,
          5.48
         ],
         "y": [
          "BLUE",
          "RED"
         ]
        }
       ],
       "layout": {
        "annotations": [
         {
          "align": "left",
          "bgcolor": "pink",
          "bordercolor": "#c7c7c7",
          "borderpad": 4,
          "borderwidth": 2,
          "font": {
           "color": "navy",
           "size": 10
          },
          "showarrow": false,
          "text": "Odds 17.24-1",
          "x": 93,
          "y": 1.7
         }
        ],
        "height": 200,
        "margin": {
         "b": 30,
         "l": 50,
         "r": 50,
         "t": 40
        },
        "template": {
         "data": {
          "bar": [
           {
            "error_x": {
             "color": "#2a3f5f"
            },
            "error_y": {
             "color": "#2a3f5f"
            },
            "marker": {
             "line": {
              "color": "#E5ECF6",
              "width": 0.5
             },
             "pattern": {
              "fillmode": "overlay",
              "size": 10,
              "solidity": 0.2
             }
            },
            "type": "bar"
           }
          ],
          "barpolar": [
           {
            "marker": {
             "line": {
              "color": "#E5ECF6",
              "width": 0.5
             },
             "pattern": {
              "fillmode": "overlay",
              "size": 10,
              "solidity": 0.2
             }
            },
            "type": "barpolar"
           }
          ],
          "carpet": [
           {
            "aaxis": {
             "endlinecolor": "#2a3f5f",
             "gridcolor": "white",
             "linecolor": "white",
             "minorgridcolor": "white",
             "startlinecolor": "#2a3f5f"
            },
            "baxis": {
             "endlinecolor": "#2a3f5f",
             "gridcolor": "white",
             "linecolor": "white",
             "minorgridcolor": "white",
             "startlinecolor": "#2a3f5f"
            },
            "type": "carpet"
           }
          ],
          "choropleth": [
           {
            "colorbar": {
             "outlinewidth": 0,
             "ticks": ""
            },
            "type": "choropleth"
           }
          ],
          "contour": [
           {
            "colorbar": {
             "outlinewidth": 0,
             "ticks": ""
            },
            "colorscale": [
             [
              0,
              "#0d0887"
             ],
             [
              0.1111111111111111,
              "#46039f"
             ],
             [
              0.2222222222222222,
              "#7201a8"
             ],
             [
              0.3333333333333333,
              "#9c179e"
             ],
             [
              0.4444444444444444,
              "#bd3786"
             ],
             [
              0.5555555555555556,
              "#d8576b"
             ],
             [
              0.6666666666666666,
              "#ed7953"
             ],
             [
              0.7777777777777778,
              "#fb9f3a"
             ],
             [
              0.8888888888888888,
              "#fdca26"
             ],
             [
              1,
              "#f0f921"
             ]
            ],
            "type": "contour"
           }
          ],
          "contourcarpet": [
           {
            "colorbar": {
             "outlinewidth": 0,
             "ticks": ""
            },
            "type": "contourcarpet"
           }
          ],
          "heatmap": [
           {
            "colorbar": {
             "outlinewidth": 0,
             "ticks": ""
            },
            "colorscale": [
             [
              0,
              "#0d0887"
             ],
             [
              0.1111111111111111,
              "#46039f"
             ],
             [
              0.2222222222222222,
              "#7201a8"
             ],
             [
              0.3333333333333333,
              "#9c179e"
             ],
             [
              0.4444444444444444,
              "#bd3786"
             ],
             [
              0.5555555555555556,
              "#d8576b"
             ],
             [
              0.6666666666666666,
              "#ed7953"
             ],
             [
              0.7777777777777778,
              "#fb9f3a"
             ],
             [
              0.8888888888888888,
              "#fdca26"
             ],
             [
              1,
              "#f0f921"
             ]
            ],
            "type": "heatmap"
           }
          ],
          "histogram": [
           {
            "marker": {
             "pattern": {
              "fillmode": "overlay",
              "size": 10,
              "solidity": 0.2
             }
            },
            "type": "histogram"
           }
          ],
          "histogram2d": [
           {
            "colorbar": {
             "outlinewidth": 0,
             "ticks": ""
            },
            "colorscale": [
             [
              0,
              "#0d0887"
             ],
             [
              0.1111111111111111,
              "#46039f"
             ],
             [
              0.2222222222222222,
              "#7201a8"
             ],
             [
              0.3333333333333333,
              "#9c179e"
             ],
             [
              0.4444444444444444,
              "#bd3786"
             ],
             [
              0.5555555555555556,
              "#d8576b"
             ],
             [
              0.6666666666666666,
              "#ed7953"
             ],
             [
              0.7777777777777778,
              "#fb9f3a"
             ],
             [
              0.8888888888888888,
              "#fdca26"
             ],
             [
              1,
              "#f0f921"
             ]
            ],
            "type": "histogram2d"
           }
          ],
          "histogram2dcontour": [
           {
            "colorbar": {
             "outlinewidth": 0,
             "ticks": ""
            },
            "colorscale": [
             [
              0,
              "#0d0887"
             ],
             [
              0.1111111111111111,
              "#46039f"
             ],
             [
              0.2222222222222222,
              "#7201a8"
             ],
             [
              0.3333333333333333,
              "#9c179e"
             ],
             [
              0.4444444444444444,
              "#bd3786"
             ],
             [
              0.5555555555555556,
              "#d8576b"
             ],
             [
              0.6666666666666666,
              "#ed7953"
             ],
             [
              0.7777777777777778,
              "#fb9f3a"
             ],
             [
              0.8888888888888888,
              "#fdca26"
             ],
             [
              1,
              "#f0f921"
             ]
            ],
            "type": "histogram2dcontour"
           }
          ],
          "mesh3d": [
           {
            "colorbar": {
             "outlinewidth": 0,
             "ticks": ""
            },
            "type": "mesh3d"
           }
          ],
          "parcoords": [
           {
            "line": {
             "colorbar": {
              "outlinewidth": 0,
              "ticks": ""
             }
            },
            "type": "parcoords"
           }
          ],
          "pie": [
           {
            "automargin": true,
            "type": "pie"
           }
          ],
          "scatter": [
           {
            "fillpattern": {
             "fillmode": "overlay",
             "size": 10,
             "solidity": 0.2
            },
            "type": "scatter"
           }
          ],
          "scatter3d": [
           {
            "line": {
             "colorbar": {
              "outlinewidth": 0,
              "ticks": ""
             }
            },
            "marker": {
             "colorbar": {
              "outlinewidth": 0,
              "ticks": ""
             }
            },
            "type": "scatter3d"
           }
          ],
          "scattercarpet": [
           {
            "marker": {
             "colorbar": {
              "outlinewidth": 0,
              "ticks": ""
             }
            },
            "type": "scattercarpet"
           }
          ],
          "scattergeo": [
           {
            "marker": {
             "colorbar": {
              "outlinewidth": 0,
              "ticks": ""
             }
            },
            "type": "scattergeo"
           }
          ],
          "scattergl": [
           {
            "marker": {
             "colorbar": {
              "outlinewidth": 0,
              "ticks": ""
             }
            },
            "type": "scattergl"
           }
          ],
          "scattermap": [
           {
            "marker": {
             "colorbar": {
              "outlinewidth": 0,
              "ticks": ""
             }
            },
            "type": "scattermap"
           }
          ],
          "scattermapbox": [
           {
            "marker": {
             "colorbar": {
              "outlinewidth": 0,
              "ticks": ""
             }
            },
            "type": "scattermapbox"
           }
          ],
          "scatterpolar": [
           {
            "marker": {
             "colorbar": {
              "outlinewidth": 0,
              "ticks": ""
             }
            },
            "type": "scatterpolar"
           }
          ],
          "scatterpolargl": [
           {
            "marker": {
             "colorbar": {
              "outlinewidth": 0,
              "ticks": ""
             }
            },
            "type": "scatterpolargl"
           }
          ],
          "scatterternary": [
           {
            "marker": {
             "colorbar": {
              "outlinewidth": 0,
              "ticks": ""
             }
            },
            "type": "scatterternary"
           }
          ],
          "surface": [
           {
            "colorbar": {
             "outlinewidth": 0,
             "ticks": ""
            },
            "colorscale": [
             [
              0,
              "#0d0887"
             ],
             [
              0.1111111111111111,
              "#46039f"
             ],
             [
              0.2222222222222222,
              "#7201a8"
             ],
             [
              0.3333333333333333,
              "#9c179e"
             ],
             [
              0.4444444444444444,
              "#bd3786"
             ],
             [
              0.5555555555555556,
              "#d8576b"
             ],
             [
              0.6666666666666666,
              "#ed7953"
             ],
             [
              0.7777777777777778,
              "#fb9f3a"
             ],
             [
              0.8888888888888888,
              "#fdca26"
             ],
             [
              1,
              "#f0f921"
             ]
            ],
            "type": "surface"
           }
          ],
          "table": [
           {
            "cells": {
             "fill": {
              "color": "#EBF0F8"
             },
             "line": {
              "color": "white"
             }
            },
            "header": {
             "fill": {
              "color": "#C8D4E3"
             },
             "line": {
              "color": "white"
             }
            },
            "type": "table"
           }
          ]
         },
         "layout": {
          "annotationdefaults": {
           "arrowcolor": "#2a3f5f",
           "arrowhead": 0,
           "arrowwidth": 1
          },
          "autotypenumbers": "strict",
          "coloraxis": {
           "colorbar": {
            "outlinewidth": 0,
            "ticks": ""
           }
          },
          "colorscale": {
           "diverging": [
            [
             0,
             "#8e0152"
            ],
            [
             0.1,
             "#c51b7d"
            ],
            [
             0.2,
             "#de77ae"
            ],
            [
             0.3,
             "#f1b6da"
            ],
            [
             0.4,
             "#fde0ef"
            ],
            [
             0.5,
             "#f7f7f7"
            ],
            [
             0.6,
             "#e6f5d0"
            ],
            [
             0.7,
             "#b8e186"
            ],
            [
             0.8,
             "#7fbc41"
            ],
            [
             0.9,
             "#4d9221"
            ],
            [
             1,
             "#276419"
            ]
           ],
           "sequential": [
            [
             0,
             "#0d0887"
            ],
            [
             0.1111111111111111,
             "#46039f"
            ],
            [
             0.2222222222222222,
             "#7201a8"
            ],
            [
             0.3333333333333333,
             "#9c179e"
            ],
            [
             0.4444444444444444,
             "#bd3786"
            ],
            [
             0.5555555555555556,
             "#d8576b"
            ],
            [
             0.6666666666666666,
             "#ed7953"
            ],
            [
             0.7777777777777778,
             "#fb9f3a"
            ],
            [
             0.8888888888888888,
             "#fdca26"
            ],
            [
             1,
             "#f0f921"
            ]
           ],
           "sequentialminus": [
            [
             0,
             "#0d0887"
            ],
            [
             0.1111111111111111,
             "#46039f"
            ],
            [
             0.2222222222222222,
             "#7201a8"
            ],
            [
             0.3333333333333333,
             "#9c179e"
            ],
            [
             0.4444444444444444,
             "#bd3786"
            ],
            [
             0.5555555555555556,
             "#d8576b"
            ],
            [
             0.6666666666666666,
             "#ed7953"
            ],
            [
             0.7777777777777778,
             "#fb9f3a"
            ],
            [
             0.8888888888888888,
             "#fdca26"
            ],
            [
             1,
             "#f0f921"
            ]
           ]
          },
          "colorway": [
           "#636efa",
           "#EF553B",
           "#00cc96",
           "#ab63fa",
           "#FFA15A",
           "#19d3f3",
           "#FF6692",
           "#B6E880",
           "#FF97FF",
           "#FECB52"
          ],
          "font": {
           "color": "#2a3f5f"
          },
          "geo": {
           "bgcolor": "white",
           "lakecolor": "white",
           "landcolor": "#E5ECF6",
           "showlakes": true,
           "showland": true,
           "subunitcolor": "white"
          },
          "hoverlabel": {
           "align": "left"
          },
          "hovermode": "closest",
          "mapbox": {
           "style": "light"
          },
          "paper_bgcolor": "white",
          "plot_bgcolor": "#E5ECF6",
          "polar": {
           "angularaxis": {
            "gridcolor": "white",
            "linecolor": "white",
            "ticks": ""
           },
           "bgcolor": "#E5ECF6",
           "radialaxis": {
            "gridcolor": "white",
            "linecolor": "white",
            "ticks": ""
           }
          },
          "scene": {
           "xaxis": {
            "backgroundcolor": "#E5ECF6",
            "gridcolor": "white",
            "gridwidth": 2,
            "linecolor": "white",
            "showbackground": true,
            "ticks": "",
            "zerolinecolor": "white"
           },
           "yaxis": {
            "backgroundcolor": "#E5ECF6",
            "gridcolor": "white",
            "gridwidth": 2,
            "linecolor": "white",
            "showbackground": true,
            "ticks": "",
            "zerolinecolor": "white"
           },
           "zaxis": {
            "backgroundcolor": "#E5ECF6",
            "gridcolor": "white",
            "gridwidth": 2,
            "linecolor": "white",
            "showbackground": true,
            "ticks": "",
            "zerolinecolor": "white"
           }
          },
          "shapedefaults": {
           "line": {
            "color": "#2a3f5f"
           }
          },
          "ternary": {
           "aaxis": {
            "gridcolor": "white",
            "linecolor": "white",
            "ticks": ""
           },
           "baxis": {
            "gridcolor": "white",
            "linecolor": "white",
            "ticks": ""
           },
           "bgcolor": "#E5ECF6",
           "caxis": {
            "gridcolor": "white",
            "linecolor": "white",
            "ticks": ""
           }
          },
          "title": {
           "x": 0.05
          },
          "xaxis": {
           "automargin": true,
           "gridcolor": "white",
           "linecolor": "white",
           "ticks": "",
           "title": {
            "standoff": 15
           },
           "zerolinecolor": "white",
           "zerolinewidth": 2
          },
          "yaxis": {
           "automargin": true,
           "gridcolor": "white",
           "linecolor": "white",
           "ticks": "",
           "title": {
            "standoff": 15
           },
           "zerolinecolor": "white",
           "zerolinewidth": 2
          }
         }
        },
        "title": {
         "font": {
          "size": 18
         },
         "text": "League of Legend - Win Prediction from First 10-Minutes"
        },
        "xaxis": {
         "range": [
          0,
          100
         ],
         "title": {
          "font": {
           "color": "black",
           "size": 15
          },
          "text": "Team Winning Probability (%)"
         }
        },
        "yaxis": {
         "range": [
          -0.5,
          2
         ],
         "title": {
          "font": {
           "size": 15
          }
         }
        }
       }
      }
     },
     "metadata": {},
     "output_type": "display_data"
    }
   ],
   "source": [
    "### Plotly Graph Objects \n",
    "teams = ['BLUE', 'RED']\n",
    "win_probs = [round(100*blue_win_prob,2), round(100*red_win_prob,2)]\n",
    "colors = ['skyblue','crimson']\n",
    "if (blue_win_odds >= red_win_odds):\n",
    "    odds_text = 'Odds ' + str(round(blue_win_odds,2)) + '-1'\n",
    "else:\n",
    "    odds_text = 'Odds ' + str(round(red_win_odds,2)) + '-1'\n",
    "\n",
    "fig = go.Figure([go.Bar(x=win_probs, y=teams, text=win_probs, textposition='auto', marker_color=colors, orientation='h', width=[0.6, 0.6])])\n",
    "fig.update_layout(title_text='League of Legend - Win Prediction from First 10-Minutes', title_font=dict(size=18), height=200, margin=dict(l=50, r=50, b=30, t=40))\n",
    "fig.update_xaxes(title_text='Team Winning Probability (%)', title_font=dict(color='black', size=15), range=[0,100])\n",
    "fig.update_yaxes(title_font=dict(size=15), range=[-0.5,2])\n",
    "fig.add_annotation(x=93, y=1.7, text=odds_text, showarrow=False, align='left', bordercolor=\"#c7c7c7\", borderwidth=2, borderpad=4, bgcolor=\"pink\", font=dict(size=10, color=\"navy\"))\n",
    "fig.show()"
   ]
  },
  {
   "cell_type": "markdown",
   "metadata": {},
   "source": [
    "Let's check if the prediction results from the custom function is algined with the prediction from Scikit Learn's function"
   ]
  },
  {
   "cell_type": "code",
   "execution_count": 38,
   "metadata": {
    "tags": []
   },
   "outputs": [
    {
     "name": "stdout",
     "output_type": "stream",
     "text": [
      "Scikit Learn's Naive Bayesian accuracy (test): 0.7105 \n",
      "\n",
      "Custom function's Naive Bayesian accuracy (test): 0.7105 \n",
      "\n"
     ]
    }
   ],
   "source": [
    "test_result = accuracy_score(y_test, nb_clf.predict(X_test))\n",
    "print(\"Scikit Learn's Naive Bayesian accuracy (test): %2.4f \\n\" % test_result) \n",
    "\n",
    "acc_count = 0\n",
    "for i in range(len(y_test)):\n",
    "    pred = custom_predict_proba(reshaped_summary, X_test[i])\n",
    "    if pred[0] == y_test[i]:\n",
    "        acc_count += 1\n",
    "\n",
    "test_result_custom = acc_count / len(y_test)\n",
    "print(\"Custom function's Naive Bayesian accuracy (test): %2.4f \\n\" % test_result_custom) "
   ]
  },
  {
   "cell_type": "code",
   "execution_count": null,
   "metadata": {},
   "outputs": [],
   "source": []
  }
 ],
 "metadata": {
  "kernelspec": {
   "display_name": "lol-predict",
   "language": "python",
   "name": "python3"
  },
  "language_info": {
   "codemirror_mode": {
    "name": "ipython",
    "version": 3
   },
   "file_extension": ".py",
   "mimetype": "text/x-python",
   "name": "python",
   "nbconvert_exporter": "python",
   "pygments_lexer": "ipython3",
   "version": "3.13.5"
  },
  "orig_nbformat": 2
 },
 "nbformat": 4,
 "nbformat_minor": 2
}
