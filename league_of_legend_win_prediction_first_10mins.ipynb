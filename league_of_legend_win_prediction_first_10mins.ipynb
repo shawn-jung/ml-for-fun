{
 "cells": [
  {
   "cell_type": "markdown",
   "metadata": {},
   "source": [
    "# LOL Win Prediction from First 10 Minutes Game Play Data\n",
    "- Author: Shawn Jung (shawnagie@gmail.com) <br> \n",
    "- Last Update: 4/22/2020 <br>\n",
    "This is a fun, pebble project to build a win/lose prediction model based on first ten minutes of Legue of Legends game data. FYI, the game is a multiplayer online battle game developed by Riot Games, which is a de-facto national sport in South Korea. I got this data from this Kaggle page. https://www.kaggle.com/bobbyscience/league-of-legends-diamond-ranked-games-10-min If you are interested in the game itself, visit https://play.na.leagueoflegends.com/en_US"
   ]
  },
  {
   "cell_type": "markdown",
   "metadata": {},
   "source": [
    "### Loading basic libraries"
   ]
  },
  {
   "cell_type": "code",
   "execution_count": 94,
   "metadata": {},
   "outputs": [],
   "source": [
    "# pandas and numpy \n",
    "import pandas as pd \n",
    "import numpy as np \n",
    "from matplotlib import pyplot as plt \n",
    "\n",
    "# metrics and dataset prepration \n",
    "from sklearn.model_selection import train_test_split\n",
    "from sklearn.model_selection import StratifiedKFold\n",
    "from sklearn.model_selection import cross_val_score\n",
    "from sklearn.model_selection import GridSearchCV\n",
    "from sklearn.preprocessing import StandardScaler\n",
    "#from sklearn.compose import ColumnTransformer \n",
    "#from sklearn.preprocessing import KBinsDiscretizer\n",
    "from sklearn.preprocessing import MinMaxScaler \n",
    "from sklearn.decomposition import PCA \n",
    "from sklearn.metrics import classification_report \n",
    "from sklearn.pipeline import Pipeline \n",
    "\n",
    "# loading classifier libraries \n",
    "from sklearn.linear_model import LogisticRegression \n",
    "from sklearn.tree import DecisionTreeClassifier \n",
    "from sklearn.neighbors import KNeighborsClassifier \n",
    "from sklearn.discriminant_analysis import LinearDiscriminantAnalysis \n",
    "from sklearn.naive_bayes import GaussianNB \n",
    "from sklearn.svm import SVC \n",
    "\n",
    "from sklearn.ensemble import AdaBoostClassifier\n",
    "from sklearn.ensemble import GradientBoostingClassifier\n",
    "from sklearn.ensemble import RandomForestClassifier\n",
    "from sklearn.ensemble import ExtraTreesClassifier"
   ]
  },
  {
   "cell_type": "markdown",
   "metadata": {},
   "source": [
    "### Let's get the dataframe\n",
    "An imputed dataframe will be defined based on separate EDA - df_imputed"
   ]
  },
  {
   "cell_type": "code",
   "execution_count": 26,
   "metadata": {},
   "outputs": [],
   "source": [
    "pd.set_option('display.max_columns', None)\n",
    "\n",
    "filepath = './data/high_diamond_ranked_10min.csv'\n",
    "df = pd.read_csv(filepath)"
   ]
  },
  {
   "cell_type": "code",
   "execution_count": 27,
   "metadata": {},
   "outputs": [
    {
     "output_type": "execute_result",
     "data": {
      "text/plain": "       gameId  blueWins  blueWardsPlaced  blueWardsDestroyed  blueFirstBlood  \\\n0  4519157822         0               28                   2               1   \n1  4523371949         0               12                   1               0   \n2  4521474530         0               15                   0               0   \n3  4524384067         0               43                   1               0   \n4  4436033771         0               75                   4               0   \n\n   blueKills  blueDeaths  blueAssists  blueEliteMonsters  blueDragons  \\\n0          9           6           11                  0            0   \n1          5           5            5                  0            0   \n2          7          11            4                  1            1   \n3          4           5            5                  1            0   \n4          6           6            6                  0            0   \n\n   blueHeralds  blueTowersDestroyed  blueTotalGold  blueAvgLevel  \\\n0            0                    0          17210           6.6   \n1            0                    0          14712           6.6   \n2            0                    0          16113           6.4   \n3            1                    0          15157           7.0   \n4            0                    0          16400           7.0   \n\n   blueTotalExperience  blueTotalMinionsKilled  blueTotalJungleMinionsKilled  \\\n0                17039                     195                            36   \n1                16265                     174                            43   \n2                16221                     186                            46   \n3                17954                     201                            55   \n4                18543                     210                            57   \n\n   blueGoldDiff  blueExperienceDiff  blueCSPerMin  blueGoldPerMin  \\\n0           643                  -8          19.5          1721.0   \n1         -2908               -1173          17.4          1471.2   \n2         -1172               -1033          18.6          1611.3   \n3         -1321                  -7          20.1          1515.7   \n4         -1004                 230          21.0          1640.0   \n\n   redWardsPlaced  redWardsDestroyed  redFirstBlood  redKills  redDeaths  \\\n0              15                  6              0         6          9   \n1              12                  1              1         5          5   \n2              15                  3              1        11          7   \n3              15                  2              1         5          4   \n4              17                  2              1         6          6   \n\n   redAssists  redEliteMonsters  redDragons  redHeralds  redTowersDestroyed  \\\n0           8                 0           0           0                   0   \n1           2                 2           1           1                   1   \n2          14                 0           0           0                   0   \n3          10                 0           0           0                   0   \n4           7                 1           1           0                   0   \n\n   redTotalGold  redAvgLevel  redTotalExperience  redTotalMinionsKilled  \\\n0         16567          6.8               17047                    197   \n1         17620          6.8               17438                    240   \n2         17285          6.8               17254                    203   \n3         16478          7.0               17961                    235   \n4         17404          7.0               18313                    225   \n\n   redTotalJungleMinionsKilled  redGoldDiff  redExperienceDiff  redCSPerMin  \\\n0                           55         -643                  8         19.7   \n1                           52         2908               1173         24.0   \n2                           28         1172               1033         20.3   \n3                           47         1321                  7         23.5   \n4                           67         1004               -230         22.5   \n\n   redGoldPerMin  \n0         1656.7  \n1         1762.0  \n2         1728.5  \n3         1647.8  \n4         1740.4  ",
      "text/html": "<div>\n<style scoped>\n    .dataframe tbody tr th:only-of-type {\n        vertical-align: middle;\n    }\n\n    .dataframe tbody tr th {\n        vertical-align: top;\n    }\n\n    .dataframe thead th {\n        text-align: right;\n    }\n</style>\n<table border=\"1\" class=\"dataframe\">\n  <thead>\n    <tr style=\"text-align: right;\">\n      <th></th>\n      <th>gameId</th>\n      <th>blueWins</th>\n      <th>blueWardsPlaced</th>\n      <th>blueWardsDestroyed</th>\n      <th>blueFirstBlood</th>\n      <th>blueKills</th>\n      <th>blueDeaths</th>\n      <th>blueAssists</th>\n      <th>blueEliteMonsters</th>\n      <th>blueDragons</th>\n      <th>blueHeralds</th>\n      <th>blueTowersDestroyed</th>\n      <th>blueTotalGold</th>\n      <th>blueAvgLevel</th>\n      <th>blueTotalExperience</th>\n      <th>blueTotalMinionsKilled</th>\n      <th>blueTotalJungleMinionsKilled</th>\n      <th>blueGoldDiff</th>\n      <th>blueExperienceDiff</th>\n      <th>blueCSPerMin</th>\n      <th>blueGoldPerMin</th>\n      <th>redWardsPlaced</th>\n      <th>redWardsDestroyed</th>\n      <th>redFirstBlood</th>\n      <th>redKills</th>\n      <th>redDeaths</th>\n      <th>redAssists</th>\n      <th>redEliteMonsters</th>\n      <th>redDragons</th>\n      <th>redHeralds</th>\n      <th>redTowersDestroyed</th>\n      <th>redTotalGold</th>\n      <th>redAvgLevel</th>\n      <th>redTotalExperience</th>\n      <th>redTotalMinionsKilled</th>\n      <th>redTotalJungleMinionsKilled</th>\n      <th>redGoldDiff</th>\n      <th>redExperienceDiff</th>\n      <th>redCSPerMin</th>\n      <th>redGoldPerMin</th>\n    </tr>\n  </thead>\n  <tbody>\n    <tr>\n      <th>0</th>\n      <td>4519157822</td>\n      <td>0</td>\n      <td>28</td>\n      <td>2</td>\n      <td>1</td>\n      <td>9</td>\n      <td>6</td>\n      <td>11</td>\n      <td>0</td>\n      <td>0</td>\n      <td>0</td>\n      <td>0</td>\n      <td>17210</td>\n      <td>6.6</td>\n      <td>17039</td>\n      <td>195</td>\n      <td>36</td>\n      <td>643</td>\n      <td>-8</td>\n      <td>19.5</td>\n      <td>1721.0</td>\n      <td>15</td>\n      <td>6</td>\n      <td>0</td>\n      <td>6</td>\n      <td>9</td>\n      <td>8</td>\n      <td>0</td>\n      <td>0</td>\n      <td>0</td>\n      <td>0</td>\n      <td>16567</td>\n      <td>6.8</td>\n      <td>17047</td>\n      <td>197</td>\n      <td>55</td>\n      <td>-643</td>\n      <td>8</td>\n      <td>19.7</td>\n      <td>1656.7</td>\n    </tr>\n    <tr>\n      <th>1</th>\n      <td>4523371949</td>\n      <td>0</td>\n      <td>12</td>\n      <td>1</td>\n      <td>0</td>\n      <td>5</td>\n      <td>5</td>\n      <td>5</td>\n      <td>0</td>\n      <td>0</td>\n      <td>0</td>\n      <td>0</td>\n      <td>14712</td>\n      <td>6.6</td>\n      <td>16265</td>\n      <td>174</td>\n      <td>43</td>\n      <td>-2908</td>\n      <td>-1173</td>\n      <td>17.4</td>\n      <td>1471.2</td>\n      <td>12</td>\n      <td>1</td>\n      <td>1</td>\n      <td>5</td>\n      <td>5</td>\n      <td>2</td>\n      <td>2</td>\n      <td>1</td>\n      <td>1</td>\n      <td>1</td>\n      <td>17620</td>\n      <td>6.8</td>\n      <td>17438</td>\n      <td>240</td>\n      <td>52</td>\n      <td>2908</td>\n      <td>1173</td>\n      <td>24.0</td>\n      <td>1762.0</td>\n    </tr>\n    <tr>\n      <th>2</th>\n      <td>4521474530</td>\n      <td>0</td>\n      <td>15</td>\n      <td>0</td>\n      <td>0</td>\n      <td>7</td>\n      <td>11</td>\n      <td>4</td>\n      <td>1</td>\n      <td>1</td>\n      <td>0</td>\n      <td>0</td>\n      <td>16113</td>\n      <td>6.4</td>\n      <td>16221</td>\n      <td>186</td>\n      <td>46</td>\n      <td>-1172</td>\n      <td>-1033</td>\n      <td>18.6</td>\n      <td>1611.3</td>\n      <td>15</td>\n      <td>3</td>\n      <td>1</td>\n      <td>11</td>\n      <td>7</td>\n      <td>14</td>\n      <td>0</td>\n      <td>0</td>\n      <td>0</td>\n      <td>0</td>\n      <td>17285</td>\n      <td>6.8</td>\n      <td>17254</td>\n      <td>203</td>\n      <td>28</td>\n      <td>1172</td>\n      <td>1033</td>\n      <td>20.3</td>\n      <td>1728.5</td>\n    </tr>\n    <tr>\n      <th>3</th>\n      <td>4524384067</td>\n      <td>0</td>\n      <td>43</td>\n      <td>1</td>\n      <td>0</td>\n      <td>4</td>\n      <td>5</td>\n      <td>5</td>\n      <td>1</td>\n      <td>0</td>\n      <td>1</td>\n      <td>0</td>\n      <td>15157</td>\n      <td>7.0</td>\n      <td>17954</td>\n      <td>201</td>\n      <td>55</td>\n      <td>-1321</td>\n      <td>-7</td>\n      <td>20.1</td>\n      <td>1515.7</td>\n      <td>15</td>\n      <td>2</td>\n      <td>1</td>\n      <td>5</td>\n      <td>4</td>\n      <td>10</td>\n      <td>0</td>\n      <td>0</td>\n      <td>0</td>\n      <td>0</td>\n      <td>16478</td>\n      <td>7.0</td>\n      <td>17961</td>\n      <td>235</td>\n      <td>47</td>\n      <td>1321</td>\n      <td>7</td>\n      <td>23.5</td>\n      <td>1647.8</td>\n    </tr>\n    <tr>\n      <th>4</th>\n      <td>4436033771</td>\n      <td>0</td>\n      <td>75</td>\n      <td>4</td>\n      <td>0</td>\n      <td>6</td>\n      <td>6</td>\n      <td>6</td>\n      <td>0</td>\n      <td>0</td>\n      <td>0</td>\n      <td>0</td>\n      <td>16400</td>\n      <td>7.0</td>\n      <td>18543</td>\n      <td>210</td>\n      <td>57</td>\n      <td>-1004</td>\n      <td>230</td>\n      <td>21.0</td>\n      <td>1640.0</td>\n      <td>17</td>\n      <td>2</td>\n      <td>1</td>\n      <td>6</td>\n      <td>6</td>\n      <td>7</td>\n      <td>1</td>\n      <td>1</td>\n      <td>0</td>\n      <td>0</td>\n      <td>17404</td>\n      <td>7.0</td>\n      <td>18313</td>\n      <td>225</td>\n      <td>67</td>\n      <td>1004</td>\n      <td>-230</td>\n      <td>22.5</td>\n      <td>1740.4</td>\n    </tr>\n  </tbody>\n</table>\n</div>"
     },
     "metadata": {},
     "execution_count": 27
    }
   ],
   "source": [
    "df.head()"
   ]
  },
  {
   "cell_type": "code",
   "execution_count": 28,
   "metadata": {},
   "outputs": [
    {
     "output_type": "execute_result",
     "data": {
      "text/plain": "False"
     },
     "metadata": {},
     "execution_count": 28
    }
   ],
   "source": [
    "# It seems that there is no missing data\n",
    "df.isnull().sum().any()"
   ]
  },
  {
   "cell_type": "code",
   "execution_count": 29,
   "metadata": {},
   "outputs": [
    {
     "output_type": "execute_result",
     "data": {
      "text/plain": "blueWins\n0    4949\n1    4930\ndtype: int64"
     },
     "metadata": {},
     "execution_count": 29
    }
   ],
   "source": [
    "# Win and Lose are balanced. What a pretty and neat dataset! \n",
    "df.groupby(by='blueWins').size()"
   ]
  },
  {
   "cell_type": "markdown",
   "metadata": {},
   "source": [
    "### Feature Engineering \n",
    "It appears that I might as well apply binning for some features. <BR> For instance, the Wards grants sights on the game map, and I see weirdly high outliers while 75% quantile ward numbers are 20. Considering median value 16 and the game behavior, it makes sense to transform such variables into ordinal values"
   ]
  },
  {
   "cell_type": "code",
   "execution_count": 30,
   "metadata": {},
   "outputs": [
    {
     "output_type": "execute_result",
     "data": {
      "text/plain": "array([[<matplotlib.axes._subplots.AxesSubplot object at 0x0000025827E62908>,\n        <matplotlib.axes._subplots.AxesSubplot object at 0x0000025827EC6548>]],\n      dtype=object)"
     },
     "metadata": {},
     "execution_count": 30
    },
    {
     "output_type": "display_data",
     "data": {
      "text/plain": "<Figure size 432x288 with 2 Axes>",
      "image/svg+xml": "<?xml version=\"1.0\" encoding=\"utf-8\" standalone=\"no\"?>\r\n<!DOCTYPE svg PUBLIC \"-//W3C//DTD SVG 1.1//EN\"\r\n  \"http://www.w3.org/Graphics/SVG/1.1/DTD/svg11.dtd\">\r\n<!-- Created with matplotlib (https://matplotlib.org/) -->\r\n<svg height=\"263.63625pt\" version=\"1.1\" viewBox=\"0 0 381.65 263.63625\" width=\"381.65pt\" xmlns=\"http://www.w3.org/2000/svg\" xmlns:xlink=\"http://www.w3.org/1999/xlink\">\r\n <defs>\r\n  <style type=\"text/css\">\r\n*{stroke-linecap:butt;stroke-linejoin:round;}\r\n  </style>\r\n </defs>\r\n <g id=\"figure_1\">\r\n  <g id=\"patch_1\">\r\n   <path d=\"M -0 263.63625 \r\nL 381.65 263.63625 \r\nL 381.65 0 \r\nL -0 0 \r\nz\r\n\" style=\"fill:none;\"/>\r\n  </g>\r\n  <g id=\"axes_1\">\r\n   <g id=\"patch_2\">\r\n    <path d=\"M 39.65 239.758125 \r\nL 185.215217 239.758125 \r\nL 185.215217 22.318125 \r\nL 39.65 22.318125 \r\nz\r\n\" style=\"fill:#ffffff;\"/>\r\n   </g>\r\n   <g id=\"patch_3\">\r\n    <path clip-path=\"url(#pf0ce4ac8eb)\" d=\"M 46.266601 239.758125 \r\nL 49.574901 239.758125 \r\nL 49.574901 225.159975 \r\nL 46.266601 225.159975 \r\nz\r\n\" style=\"fill:#1f77b4;\"/>\r\n   </g>\r\n   <g id=\"patch_4\">\r\n    <path clip-path=\"url(#pf0ce4ac8eb)\" d=\"M 49.574901 239.758125 \r\nL 52.883202 239.758125 \r\nL 52.883202 32.672411 \r\nL 49.574901 32.672411 \r\nz\r\n\" style=\"fill:#1f77b4;\"/>\r\n   </g>\r\n   <g id=\"patch_5\">\r\n    <path clip-path=\"url(#pf0ce4ac8eb)\" d=\"M 52.883202 239.758125 \r\nL 56.191502 239.758125 \r\nL 56.191502 164.204342 \r\nL 52.883202 164.204342 \r\nz\r\n\" style=\"fill:#1f77b4;\"/>\r\n   </g>\r\n   <g id=\"patch_6\">\r\n    <path clip-path=\"url(#pf0ce4ac8eb)\" d=\"M 56.191502 239.758125 \r\nL 59.499802 239.758125 \r\nL 59.499802 230.47177 \r\nL 56.191502 230.47177 \r\nz\r\n\" style=\"fill:#1f77b4;\"/>\r\n   </g>\r\n   <g id=\"patch_7\">\r\n    <path clip-path=\"url(#pf0ce4ac8eb)\" d=\"M 59.499802 239.758125 \r\nL 62.808103 239.758125 \r\nL 62.808103 230.397479 \r\nL 59.499802 230.397479 \r\nz\r\n\" style=\"fill:#1f77b4;\"/>\r\n   </g>\r\n   <g id=\"patch_8\">\r\n    <path clip-path=\"url(#pf0ce4ac8eb)\" d=\"M 62.808103 239.758125 \r\nL 66.116403 239.758125 \r\nL 66.116403 219.811035 \r\nL 62.808103 219.811035 \r\nz\r\n\" style=\"fill:#1f77b4;\"/>\r\n   </g>\r\n   <g id=\"patch_9\">\r\n    <path clip-path=\"url(#pf0ce4ac8eb)\" d=\"M 66.116403 239.758125 \r\nL 69.424704 239.758125 \r\nL 69.424704 231.809005 \r\nL 66.116403 231.809005 \r\nz\r\n\" style=\"fill:#1f77b4;\"/>\r\n   </g>\r\n   <g id=\"patch_10\">\r\n    <path clip-path=\"url(#pf0ce4ac8eb)\" d=\"M 69.424704 239.758125 \r\nL 72.733004 239.758125 \r\nL 72.733004 234.557766 \r\nL 69.424704 234.557766 \r\nz\r\n\" style=\"fill:#1f77b4;\"/>\r\n   </g>\r\n   <g id=\"patch_11\">\r\n    <path clip-path=\"url(#pf0ce4ac8eb)\" d=\"M 72.733004 239.758125 \r\nL 76.041304 239.758125 \r\nL 76.041304 235.486402 \r\nL 72.733004 235.486402 \r\nz\r\n\" style=\"fill:#1f77b4;\"/>\r\n   </g>\r\n   <g id=\"patch_12\">\r\n    <path clip-path=\"url(#pf0ce4ac8eb)\" d=\"M 76.041304 239.758125 \r\nL 79.349605 239.758125 \r\nL 79.349605 238.458035 \r\nL 76.041304 238.458035 \r\nz\r\n\" style=\"fill:#1f77b4;\"/>\r\n   </g>\r\n   <g id=\"patch_13\">\r\n    <path clip-path=\"url(#pf0ce4ac8eb)\" d=\"M 79.349605 239.758125 \r\nL 82.657905 239.758125 \r\nL 82.657905 238.680908 \r\nL 79.349605 238.680908 \r\nz\r\n\" style=\"fill:#1f77b4;\"/>\r\n   </g>\r\n   <g id=\"patch_14\">\r\n    <path clip-path=\"url(#pf0ce4ac8eb)\" d=\"M 82.657905 239.758125 \r\nL 85.966206 239.758125 \r\nL 85.966206 238.160872 \r\nL 82.657905 238.160872 \r\nz\r\n\" style=\"fill:#1f77b4;\"/>\r\n   </g>\r\n   <g id=\"patch_15\">\r\n    <path clip-path=\"url(#pf0ce4ac8eb)\" d=\"M 85.966206 239.758125 \r\nL 89.274506 239.758125 \r\nL 89.274506 237.566545 \r\nL 85.966206 237.566545 \r\nz\r\n\" style=\"fill:#1f77b4;\"/>\r\n   </g>\r\n   <g id=\"patch_16\">\r\n    <path clip-path=\"url(#pf0ce4ac8eb)\" d=\"M 89.274506 239.758125 \r\nL 92.582806 239.758125 \r\nL 92.582806 237.343673 \r\nL 89.274506 237.343673 \r\nz\r\n\" style=\"fill:#1f77b4;\"/>\r\n   </g>\r\n   <g id=\"patch_17\">\r\n    <path clip-path=\"url(#pf0ce4ac8eb)\" d=\"M 92.582806 239.758125 \r\nL 95.891107 239.758125 \r\nL 95.891107 238.82949 \r\nL 92.582806 238.82949 \r\nz\r\n\" style=\"fill:#1f77b4;\"/>\r\n   </g>\r\n   <g id=\"patch_18\">\r\n    <path clip-path=\"url(#pf0ce4ac8eb)\" d=\"M 95.891107 239.758125 \r\nL 99.199407 239.758125 \r\nL 99.199407 239.498107 \r\nL 95.891107 239.498107 \r\nz\r\n\" style=\"fill:#1f77b4;\"/>\r\n   </g>\r\n   <g id=\"patch_19\">\r\n    <path clip-path=\"url(#pf0ce4ac8eb)\" d=\"M 99.199407 239.758125 \r\nL 102.507708 239.758125 \r\nL 102.507708 238.940926 \r\nL 99.199407 238.940926 \r\nz\r\n\" style=\"fill:#1f77b4;\"/>\r\n   </g>\r\n   <g id=\"patch_20\">\r\n    <path clip-path=\"url(#pf0ce4ac8eb)\" d=\"M 102.507708 239.758125 \r\nL 105.816008 239.758125 \r\nL 105.816008 239.535252 \r\nL 102.507708 239.535252 \r\nz\r\n\" style=\"fill:#1f77b4;\"/>\r\n   </g>\r\n   <g id=\"patch_21\">\r\n    <path clip-path=\"url(#pf0ce4ac8eb)\" d=\"M 105.816008 239.758125 \r\nL 109.124308 239.758125 \r\nL 109.124308 239.498107 \r\nL 105.816008 239.498107 \r\nz\r\n\" style=\"fill:#1f77b4;\"/>\r\n   </g>\r\n   <g id=\"patch_22\">\r\n    <path clip-path=\"url(#pf0ce4ac8eb)\" d=\"M 109.124308 239.758125 \r\nL 112.432609 239.758125 \r\nL 112.432609 239.126653 \r\nL 109.124308 239.126653 \r\nz\r\n\" style=\"fill:#1f77b4;\"/>\r\n   </g>\r\n   <g id=\"patch_23\">\r\n    <path clip-path=\"url(#pf0ce4ac8eb)\" d=\"M 112.432609 239.758125 \r\nL 115.740909 239.758125 \r\nL 115.740909 239.423816 \r\nL 112.432609 239.423816 \r\nz\r\n\" style=\"fill:#1f77b4;\"/>\r\n   </g>\r\n   <g id=\"patch_24\">\r\n    <path clip-path=\"url(#pf0ce4ac8eb)\" d=\"M 115.740909 239.758125 \r\nL 119.049209 239.758125 \r\nL 119.049209 239.498107 \r\nL 115.740909 239.498107 \r\nz\r\n\" style=\"fill:#1f77b4;\"/>\r\n   </g>\r\n   <g id=\"patch_25\">\r\n    <path clip-path=\"url(#pf0ce4ac8eb)\" d=\"M 119.049209 239.758125 \r\nL 122.35751 239.758125 \r\nL 122.35751 239.31238 \r\nL 119.049209 239.31238 \r\nz\r\n\" style=\"fill:#1f77b4;\"/>\r\n   </g>\r\n   <g id=\"patch_26\">\r\n    <path clip-path=\"url(#pf0ce4ac8eb)\" d=\"M 122.35751 239.758125 \r\nL 125.66581 239.758125 \r\nL 125.66581 239.460962 \r\nL 122.35751 239.460962 \r\nz\r\n\" style=\"fill:#1f77b4;\"/>\r\n   </g>\r\n   <g id=\"patch_27\">\r\n    <path clip-path=\"url(#pf0ce4ac8eb)\" d=\"M 125.66581 239.758125 \r\nL 128.974111 239.758125 \r\nL 128.974111 239.572398 \r\nL 125.66581 239.572398 \r\nz\r\n\" style=\"fill:#1f77b4;\"/>\r\n   </g>\r\n   <g id=\"patch_28\">\r\n    <path clip-path=\"url(#pf0ce4ac8eb)\" d=\"M 128.974111 239.758125 \r\nL 132.282411 239.758125 \r\nL 132.282411 239.646689 \r\nL 128.974111 239.646689 \r\nz\r\n\" style=\"fill:#1f77b4;\"/>\r\n   </g>\r\n   <g id=\"patch_29\">\r\n    <path clip-path=\"url(#pf0ce4ac8eb)\" d=\"M 132.282411 239.758125 \r\nL 135.590711 239.758125 \r\nL 135.590711 239.683834 \r\nL 132.282411 239.683834 \r\nz\r\n\" style=\"fill:#1f77b4;\"/>\r\n   </g>\r\n   <g id=\"patch_30\">\r\n    <path clip-path=\"url(#pf0ce4ac8eb)\" d=\"M 135.590711 239.758125 \r\nL 138.899012 239.758125 \r\nL 138.899012 239.72098 \r\nL 135.590711 239.72098 \r\nz\r\n\" style=\"fill:#1f77b4;\"/>\r\n   </g>\r\n   <g id=\"patch_31\">\r\n    <path clip-path=\"url(#pf0ce4ac8eb)\" d=\"M 138.899012 239.758125 \r\nL 142.207312 239.758125 \r\nL 142.207312 239.758125 \r\nL 138.899012 239.758125 \r\nz\r\n\" style=\"fill:#1f77b4;\"/>\r\n   </g>\r\n   <g id=\"patch_32\">\r\n    <path clip-path=\"url(#pf0ce4ac8eb)\" d=\"M 142.207312 239.758125 \r\nL 145.515613 239.758125 \r\nL 145.515613 239.683834 \r\nL 142.207312 239.683834 \r\nz\r\n\" style=\"fill:#1f77b4;\"/>\r\n   </g>\r\n   <g id=\"patch_33\">\r\n    <path clip-path=\"url(#pf0ce4ac8eb)\" d=\"M 145.515613 239.758125 \r\nL 148.823913 239.758125 \r\nL 148.823913 239.758125 \r\nL 145.515613 239.758125 \r\nz\r\n\" style=\"fill:#1f77b4;\"/>\r\n   </g>\r\n   <g id=\"patch_34\">\r\n    <path clip-path=\"url(#pf0ce4ac8eb)\" d=\"M 148.823913 239.758125 \r\nL 152.132213 239.758125 \r\nL 152.132213 239.72098 \r\nL 148.823913 239.72098 \r\nz\r\n\" style=\"fill:#1f77b4;\"/>\r\n   </g>\r\n   <g id=\"patch_35\">\r\n    <path clip-path=\"url(#pf0ce4ac8eb)\" d=\"M 152.132213 239.758125 \r\nL 155.440514 239.758125 \r\nL 155.440514 239.72098 \r\nL 152.132213 239.72098 \r\nz\r\n\" style=\"fill:#1f77b4;\"/>\r\n   </g>\r\n   <g id=\"patch_36\">\r\n    <path clip-path=\"url(#pf0ce4ac8eb)\" d=\"M 155.440514 239.758125 \r\nL 158.748814 239.758125 \r\nL 158.748814 239.72098 \r\nL 155.440514 239.72098 \r\nz\r\n\" style=\"fill:#1f77b4;\"/>\r\n   </g>\r\n   <g id=\"patch_37\">\r\n    <path clip-path=\"url(#pf0ce4ac8eb)\" d=\"M 158.748814 239.758125 \r\nL 162.057115 239.758125 \r\nL 162.057115 239.758125 \r\nL 158.748814 239.758125 \r\nz\r\n\" style=\"fill:#1f77b4;\"/>\r\n   </g>\r\n   <g id=\"patch_38\">\r\n    <path clip-path=\"url(#pf0ce4ac8eb)\" d=\"M 162.057115 239.758125 \r\nL 165.365415 239.758125 \r\nL 165.365415 239.72098 \r\nL 162.057115 239.72098 \r\nz\r\n\" style=\"fill:#1f77b4;\"/>\r\n   </g>\r\n   <g id=\"patch_39\">\r\n    <path clip-path=\"url(#pf0ce4ac8eb)\" d=\"M 165.365415 239.758125 \r\nL 168.673715 239.758125 \r\nL 168.673715 239.758125 \r\nL 165.365415 239.758125 \r\nz\r\n\" style=\"fill:#1f77b4;\"/>\r\n   </g>\r\n   <g id=\"patch_40\">\r\n    <path clip-path=\"url(#pf0ce4ac8eb)\" d=\"M 168.673715 239.758125 \r\nL 171.982016 239.758125 \r\nL 171.982016 239.758125 \r\nL 168.673715 239.758125 \r\nz\r\n\" style=\"fill:#1f77b4;\"/>\r\n   </g>\r\n   <g id=\"patch_41\">\r\n    <path clip-path=\"url(#pf0ce4ac8eb)\" d=\"M 171.982016 239.758125 \r\nL 175.290316 239.758125 \r\nL 175.290316 239.758125 \r\nL 171.982016 239.758125 \r\nz\r\n\" style=\"fill:#1f77b4;\"/>\r\n   </g>\r\n   <g id=\"patch_42\">\r\n    <path clip-path=\"url(#pf0ce4ac8eb)\" d=\"M 175.290316 239.758125 \r\nL 178.598617 239.758125 \r\nL 178.598617 239.72098 \r\nL 175.290316 239.72098 \r\nz\r\n\" style=\"fill:#1f77b4;\"/>\r\n   </g>\r\n   <g id=\"matplotlib.axis_1\">\r\n    <g id=\"xtick_1\">\r\n     <g id=\"line2d_1\">\r\n      <path clip-path=\"url(#pf0ce4ac8eb)\" d=\"M 43.565947 239.758125 \r\nL 43.565947 22.318125 \r\n\" style=\"fill:none;stroke:#b0b0b0;stroke-linecap:square;stroke-width:0.8;\"/>\r\n     </g>\r\n     <g id=\"line2d_2\">\r\n      <defs>\r\n       <path d=\"M 0 0 \r\nL 0 3.5 \r\n\" id=\"me3e7c6185c\" style=\"stroke:#000000;stroke-width:0.8;\"/>\r\n      </defs>\r\n      <g>\r\n       <use style=\"stroke:#000000;stroke-width:0.8;\" x=\"43.565947\" xlink:href=\"#me3e7c6185c\" y=\"239.758125\"/>\r\n      </g>\r\n     </g>\r\n     <g id=\"text_1\">\r\n      <!-- 0 -->\r\n      <defs>\r\n       <path d=\"M 31.78125 66.40625 \r\nQ 24.171875 66.40625 20.328125 58.90625 \r\nQ 16.5 51.421875 16.5 36.375 \r\nQ 16.5 21.390625 20.328125 13.890625 \r\nQ 24.171875 6.390625 31.78125 6.390625 \r\nQ 39.453125 6.390625 43.28125 13.890625 \r\nQ 47.125 21.390625 47.125 36.375 \r\nQ 47.125 51.421875 43.28125 58.90625 \r\nQ 39.453125 66.40625 31.78125 66.40625 \r\nz\r\nM 31.78125 74.21875 \r\nQ 44.046875 74.21875 50.515625 64.515625 \r\nQ 56.984375 54.828125 56.984375 36.375 \r\nQ 56.984375 17.96875 50.515625 8.265625 \r\nQ 44.046875 -1.421875 31.78125 -1.421875 \r\nQ 19.53125 -1.421875 13.0625 8.265625 \r\nQ 6.59375 17.96875 6.59375 36.375 \r\nQ 6.59375 54.828125 13.0625 64.515625 \r\nQ 19.53125 74.21875 31.78125 74.21875 \r\nz\r\n\" id=\"DejaVuSans-48\"/>\r\n      </defs>\r\n      <g transform=\"translate(40.384697 254.356563)scale(0.1 -0.1)\">\r\n       <use xlink:href=\"#DejaVuSans-48\"/>\r\n      </g>\r\n     </g>\r\n    </g>\r\n    <g id=\"xtick_2\">\r\n     <g id=\"line2d_3\">\r\n      <path clip-path=\"url(#pf0ce4ac8eb)\" d=\"M 97.579015 239.758125 \r\nL 97.579015 22.318125 \r\n\" style=\"fill:none;stroke:#b0b0b0;stroke-linecap:square;stroke-width:0.8;\"/>\r\n     </g>\r\n     <g id=\"line2d_4\">\r\n      <g>\r\n       <use style=\"stroke:#000000;stroke-width:0.8;\" x=\"97.579015\" xlink:href=\"#me3e7c6185c\" y=\"239.758125\"/>\r\n      </g>\r\n     </g>\r\n     <g id=\"text_2\">\r\n      <!-- 100 -->\r\n      <defs>\r\n       <path d=\"M 12.40625 8.296875 \r\nL 28.515625 8.296875 \r\nL 28.515625 63.921875 \r\nL 10.984375 60.40625 \r\nL 10.984375 69.390625 \r\nL 28.421875 72.90625 \r\nL 38.28125 72.90625 \r\nL 38.28125 8.296875 \r\nL 54.390625 8.296875 \r\nL 54.390625 0 \r\nL 12.40625 0 \r\nz\r\n\" id=\"DejaVuSans-49\"/>\r\n      </defs>\r\n      <g transform=\"translate(88.035265 254.356563)scale(0.1 -0.1)\">\r\n       <use xlink:href=\"#DejaVuSans-49\"/>\r\n       <use x=\"63.623047\" xlink:href=\"#DejaVuSans-48\"/>\r\n       <use x=\"127.246094\" xlink:href=\"#DejaVuSans-48\"/>\r\n      </g>\r\n     </g>\r\n    </g>\r\n    <g id=\"xtick_3\">\r\n     <g id=\"line2d_5\">\r\n      <path clip-path=\"url(#pf0ce4ac8eb)\" d=\"M 151.592083 239.758125 \r\nL 151.592083 22.318125 \r\n\" style=\"fill:none;stroke:#b0b0b0;stroke-linecap:square;stroke-width:0.8;\"/>\r\n     </g>\r\n     <g id=\"line2d_6\">\r\n      <g>\r\n       <use style=\"stroke:#000000;stroke-width:0.8;\" x=\"151.592083\" xlink:href=\"#me3e7c6185c\" y=\"239.758125\"/>\r\n      </g>\r\n     </g>\r\n     <g id=\"text_3\">\r\n      <!-- 200 -->\r\n      <defs>\r\n       <path d=\"M 19.1875 8.296875 \r\nL 53.609375 8.296875 \r\nL 53.609375 0 \r\nL 7.328125 0 \r\nL 7.328125 8.296875 \r\nQ 12.9375 14.109375 22.625 23.890625 \r\nQ 32.328125 33.6875 34.8125 36.53125 \r\nQ 39.546875 41.84375 41.421875 45.53125 \r\nQ 43.3125 49.21875 43.3125 52.78125 \r\nQ 43.3125 58.59375 39.234375 62.25 \r\nQ 35.15625 65.921875 28.609375 65.921875 \r\nQ 23.96875 65.921875 18.8125 64.3125 \r\nQ 13.671875 62.703125 7.8125 59.421875 \r\nL 7.8125 69.390625 \r\nQ 13.765625 71.78125 18.9375 73 \r\nQ 24.125 74.21875 28.421875 74.21875 \r\nQ 39.75 74.21875 46.484375 68.546875 \r\nQ 53.21875 62.890625 53.21875 53.421875 \r\nQ 53.21875 48.921875 51.53125 44.890625 \r\nQ 49.859375 40.875 45.40625 35.40625 \r\nQ 44.1875 33.984375 37.640625 27.21875 \r\nQ 31.109375 20.453125 19.1875 8.296875 \r\nz\r\n\" id=\"DejaVuSans-50\"/>\r\n      </defs>\r\n      <g transform=\"translate(142.048333 254.356563)scale(0.1 -0.1)\">\r\n       <use xlink:href=\"#DejaVuSans-50\"/>\r\n       <use x=\"63.623047\" xlink:href=\"#DejaVuSans-48\"/>\r\n       <use x=\"127.246094\" xlink:href=\"#DejaVuSans-48\"/>\r\n      </g>\r\n     </g>\r\n    </g>\r\n   </g>\r\n   <g id=\"matplotlib.axis_2\">\r\n    <g id=\"ytick_1\">\r\n     <g id=\"line2d_7\">\r\n      <path clip-path=\"url(#pf0ce4ac8eb)\" d=\"M 39.65 239.758125 \r\nL 185.215217 239.758125 \r\n\" style=\"fill:none;stroke:#b0b0b0;stroke-linecap:square;stroke-width:0.8;\"/>\r\n     </g>\r\n     <g id=\"line2d_8\">\r\n      <defs>\r\n       <path d=\"M 0 0 \r\nL -3.5 0 \r\n\" id=\"m64bbb1f2c1\" style=\"stroke:#000000;stroke-width:0.8;\"/>\r\n      </defs>\r\n      <g>\r\n       <use style=\"stroke:#000000;stroke-width:0.8;\" x=\"39.65\" xlink:href=\"#m64bbb1f2c1\" y=\"239.758125\"/>\r\n      </g>\r\n     </g>\r\n     <g id=\"text_4\">\r\n      <!-- 0 -->\r\n      <g transform=\"translate(26.2875 243.557344)scale(0.1 -0.1)\">\r\n       <use xlink:href=\"#DejaVuSans-48\"/>\r\n      </g>\r\n     </g>\r\n    </g>\r\n    <g id=\"ytick_2\">\r\n     <g id=\"line2d_9\">\r\n      <path clip-path=\"url(#pf0ce4ac8eb)\" d=\"M 39.65 202.612705 \r\nL 185.215217 202.612705 \r\n\" style=\"fill:none;stroke:#b0b0b0;stroke-linecap:square;stroke-width:0.8;\"/>\r\n     </g>\r\n     <g id=\"line2d_10\">\r\n      <g>\r\n       <use style=\"stroke:#000000;stroke-width:0.8;\" x=\"39.65\" xlink:href=\"#m64bbb1f2c1\" y=\"202.612705\"/>\r\n      </g>\r\n     </g>\r\n     <g id=\"text_5\">\r\n      <!-- 1000 -->\r\n      <g transform=\"translate(7.2 206.411924)scale(0.1 -0.1)\">\r\n       <use xlink:href=\"#DejaVuSans-49\"/>\r\n       <use x=\"63.623047\" xlink:href=\"#DejaVuSans-48\"/>\r\n       <use x=\"127.246094\" xlink:href=\"#DejaVuSans-48\"/>\r\n       <use x=\"190.869141\" xlink:href=\"#DejaVuSans-48\"/>\r\n      </g>\r\n     </g>\r\n    </g>\r\n    <g id=\"ytick_3\">\r\n     <g id=\"line2d_11\">\r\n      <path clip-path=\"url(#pf0ce4ac8eb)\" d=\"M 39.65 165.467286 \r\nL 185.215217 165.467286 \r\n\" style=\"fill:none;stroke:#b0b0b0;stroke-linecap:square;stroke-width:0.8;\"/>\r\n     </g>\r\n     <g id=\"line2d_12\">\r\n      <g>\r\n       <use style=\"stroke:#000000;stroke-width:0.8;\" x=\"39.65\" xlink:href=\"#m64bbb1f2c1\" y=\"165.467286\"/>\r\n      </g>\r\n     </g>\r\n     <g id=\"text_6\">\r\n      <!-- 2000 -->\r\n      <g transform=\"translate(7.2 169.266505)scale(0.1 -0.1)\">\r\n       <use xlink:href=\"#DejaVuSans-50\"/>\r\n       <use x=\"63.623047\" xlink:href=\"#DejaVuSans-48\"/>\r\n       <use x=\"127.246094\" xlink:href=\"#DejaVuSans-48\"/>\r\n       <use x=\"190.869141\" xlink:href=\"#DejaVuSans-48\"/>\r\n      </g>\r\n     </g>\r\n    </g>\r\n    <g id=\"ytick_4\">\r\n     <g id=\"line2d_13\">\r\n      <path clip-path=\"url(#pf0ce4ac8eb)\" d=\"M 39.65 128.321866 \r\nL 185.215217 128.321866 \r\n\" style=\"fill:none;stroke:#b0b0b0;stroke-linecap:square;stroke-width:0.8;\"/>\r\n     </g>\r\n     <g id=\"line2d_14\">\r\n      <g>\r\n       <use style=\"stroke:#000000;stroke-width:0.8;\" x=\"39.65\" xlink:href=\"#m64bbb1f2c1\" y=\"128.321866\"/>\r\n      </g>\r\n     </g>\r\n     <g id=\"text_7\">\r\n      <!-- 3000 -->\r\n      <defs>\r\n       <path d=\"M 40.578125 39.3125 \r\nQ 47.65625 37.796875 51.625 33 \r\nQ 55.609375 28.21875 55.609375 21.1875 \r\nQ 55.609375 10.40625 48.1875 4.484375 \r\nQ 40.765625 -1.421875 27.09375 -1.421875 \r\nQ 22.515625 -1.421875 17.65625 -0.515625 \r\nQ 12.796875 0.390625 7.625 2.203125 \r\nL 7.625 11.71875 \r\nQ 11.71875 9.328125 16.59375 8.109375 \r\nQ 21.484375 6.890625 26.8125 6.890625 \r\nQ 36.078125 6.890625 40.9375 10.546875 \r\nQ 45.796875 14.203125 45.796875 21.1875 \r\nQ 45.796875 27.640625 41.28125 31.265625 \r\nQ 36.765625 34.90625 28.71875 34.90625 \r\nL 20.21875 34.90625 \r\nL 20.21875 43.015625 \r\nL 29.109375 43.015625 \r\nQ 36.375 43.015625 40.234375 45.921875 \r\nQ 44.09375 48.828125 44.09375 54.296875 \r\nQ 44.09375 59.90625 40.109375 62.90625 \r\nQ 36.140625 65.921875 28.71875 65.921875 \r\nQ 24.65625 65.921875 20.015625 65.03125 \r\nQ 15.375 64.15625 9.8125 62.3125 \r\nL 9.8125 71.09375 \r\nQ 15.4375 72.65625 20.34375 73.4375 \r\nQ 25.25 74.21875 29.59375 74.21875 \r\nQ 40.828125 74.21875 47.359375 69.109375 \r\nQ 53.90625 64.015625 53.90625 55.328125 \r\nQ 53.90625 49.265625 50.4375 45.09375 \r\nQ 46.96875 40.921875 40.578125 39.3125 \r\nz\r\n\" id=\"DejaVuSans-51\"/>\r\n      </defs>\r\n      <g transform=\"translate(7.2 132.121085)scale(0.1 -0.1)\">\r\n       <use xlink:href=\"#DejaVuSans-51\"/>\r\n       <use x=\"63.623047\" xlink:href=\"#DejaVuSans-48\"/>\r\n       <use x=\"127.246094\" xlink:href=\"#DejaVuSans-48\"/>\r\n       <use x=\"190.869141\" xlink:href=\"#DejaVuSans-48\"/>\r\n      </g>\r\n     </g>\r\n    </g>\r\n    <g id=\"ytick_5\">\r\n     <g id=\"line2d_15\">\r\n      <path clip-path=\"url(#pf0ce4ac8eb)\" d=\"M 39.65 91.176447 \r\nL 185.215217 91.176447 \r\n\" style=\"fill:none;stroke:#b0b0b0;stroke-linecap:square;stroke-width:0.8;\"/>\r\n     </g>\r\n     <g id=\"line2d_16\">\r\n      <g>\r\n       <use style=\"stroke:#000000;stroke-width:0.8;\" x=\"39.65\" xlink:href=\"#m64bbb1f2c1\" y=\"91.176447\"/>\r\n      </g>\r\n     </g>\r\n     <g id=\"text_8\">\r\n      <!-- 4000 -->\r\n      <defs>\r\n       <path d=\"M 37.796875 64.3125 \r\nL 12.890625 25.390625 \r\nL 37.796875 25.390625 \r\nz\r\nM 35.203125 72.90625 \r\nL 47.609375 72.90625 \r\nL 47.609375 25.390625 \r\nL 58.015625 25.390625 \r\nL 58.015625 17.1875 \r\nL 47.609375 17.1875 \r\nL 47.609375 0 \r\nL 37.796875 0 \r\nL 37.796875 17.1875 \r\nL 4.890625 17.1875 \r\nL 4.890625 26.703125 \r\nz\r\n\" id=\"DejaVuSans-52\"/>\r\n      </defs>\r\n      <g transform=\"translate(7.2 94.975665)scale(0.1 -0.1)\">\r\n       <use xlink:href=\"#DejaVuSans-52\"/>\r\n       <use x=\"63.623047\" xlink:href=\"#DejaVuSans-48\"/>\r\n       <use x=\"127.246094\" xlink:href=\"#DejaVuSans-48\"/>\r\n       <use x=\"190.869141\" xlink:href=\"#DejaVuSans-48\"/>\r\n      </g>\r\n     </g>\r\n    </g>\r\n    <g id=\"ytick_6\">\r\n     <g id=\"line2d_17\">\r\n      <path clip-path=\"url(#pf0ce4ac8eb)\" d=\"M 39.65 54.031027 \r\nL 185.215217 54.031027 \r\n\" style=\"fill:none;stroke:#b0b0b0;stroke-linecap:square;stroke-width:0.8;\"/>\r\n     </g>\r\n     <g id=\"line2d_18\">\r\n      <g>\r\n       <use style=\"stroke:#000000;stroke-width:0.8;\" x=\"39.65\" xlink:href=\"#m64bbb1f2c1\" y=\"54.031027\"/>\r\n      </g>\r\n     </g>\r\n     <g id=\"text_9\">\r\n      <!-- 5000 -->\r\n      <defs>\r\n       <path d=\"M 10.796875 72.90625 \r\nL 49.515625 72.90625 \r\nL 49.515625 64.59375 \r\nL 19.828125 64.59375 \r\nL 19.828125 46.734375 \r\nQ 21.96875 47.46875 24.109375 47.828125 \r\nQ 26.265625 48.1875 28.421875 48.1875 \r\nQ 40.625 48.1875 47.75 41.5 \r\nQ 54.890625 34.8125 54.890625 23.390625 \r\nQ 54.890625 11.625 47.5625 5.09375 \r\nQ 40.234375 -1.421875 26.90625 -1.421875 \r\nQ 22.3125 -1.421875 17.546875 -0.640625 \r\nQ 12.796875 0.140625 7.71875 1.703125 \r\nL 7.71875 11.625 \r\nQ 12.109375 9.234375 16.796875 8.0625 \r\nQ 21.484375 6.890625 26.703125 6.890625 \r\nQ 35.15625 6.890625 40.078125 11.328125 \r\nQ 45.015625 15.765625 45.015625 23.390625 \r\nQ 45.015625 31 40.078125 35.4375 \r\nQ 35.15625 39.890625 26.703125 39.890625 \r\nQ 22.75 39.890625 18.8125 39.015625 \r\nQ 14.890625 38.140625 10.796875 36.28125 \r\nz\r\n\" id=\"DejaVuSans-53\"/>\r\n      </defs>\r\n      <g transform=\"translate(7.2 57.830246)scale(0.1 -0.1)\">\r\n       <use xlink:href=\"#DejaVuSans-53\"/>\r\n       <use x=\"63.623047\" xlink:href=\"#DejaVuSans-48\"/>\r\n       <use x=\"127.246094\" xlink:href=\"#DejaVuSans-48\"/>\r\n       <use x=\"190.869141\" xlink:href=\"#DejaVuSans-48\"/>\r\n      </g>\r\n     </g>\r\n    </g>\r\n   </g>\r\n   <g id=\"patch_43\">\r\n    <path d=\"M 39.65 239.758125 \r\nL 39.65 22.318125 \r\n\" style=\"fill:none;stroke:#000000;stroke-linecap:square;stroke-linejoin:miter;stroke-width:0.8;\"/>\r\n   </g>\r\n   <g id=\"patch_44\">\r\n    <path d=\"M 185.215217 239.758125 \r\nL 185.215217 22.318125 \r\n\" style=\"fill:none;stroke:#000000;stroke-linecap:square;stroke-linejoin:miter;stroke-width:0.8;\"/>\r\n   </g>\r\n   <g id=\"patch_45\">\r\n    <path d=\"M 39.65 239.758125 \r\nL 185.215217 239.758125 \r\n\" style=\"fill:none;stroke:#000000;stroke-linecap:square;stroke-linejoin:miter;stroke-width:0.8;\"/>\r\n   </g>\r\n   <g id=\"patch_46\">\r\n    <path d=\"M 39.65 22.318125 \r\nL 185.215217 22.318125 \r\n\" style=\"fill:none;stroke:#000000;stroke-linecap:square;stroke-linejoin:miter;stroke-width:0.8;\"/>\r\n   </g>\r\n   <g id=\"text_10\">\r\n    <!-- blueWardsPlaced -->\r\n    <defs>\r\n     <path d=\"M 48.6875 27.296875 \r\nQ 48.6875 37.203125 44.609375 42.84375 \r\nQ 40.53125 48.484375 33.40625 48.484375 \r\nQ 26.265625 48.484375 22.1875 42.84375 \r\nQ 18.109375 37.203125 18.109375 27.296875 \r\nQ 18.109375 17.390625 22.1875 11.75 \r\nQ 26.265625 6.109375 33.40625 6.109375 \r\nQ 40.53125 6.109375 44.609375 11.75 \r\nQ 48.6875 17.390625 48.6875 27.296875 \r\nz\r\nM 18.109375 46.390625 \r\nQ 20.953125 51.265625 25.265625 53.625 \r\nQ 29.59375 56 35.59375 56 \r\nQ 45.5625 56 51.78125 48.09375 \r\nQ 58.015625 40.1875 58.015625 27.296875 \r\nQ 58.015625 14.40625 51.78125 6.484375 \r\nQ 45.5625 -1.421875 35.59375 -1.421875 \r\nQ 29.59375 -1.421875 25.265625 0.953125 \r\nQ 20.953125 3.328125 18.109375 8.203125 \r\nL 18.109375 0 \r\nL 9.078125 0 \r\nL 9.078125 75.984375 \r\nL 18.109375 75.984375 \r\nz\r\n\" id=\"DejaVuSans-98\"/>\r\n     <path d=\"M 9.421875 75.984375 \r\nL 18.40625 75.984375 \r\nL 18.40625 0 \r\nL 9.421875 0 \r\nz\r\n\" id=\"DejaVuSans-108\"/>\r\n     <path d=\"M 8.5 21.578125 \r\nL 8.5 54.6875 \r\nL 17.484375 54.6875 \r\nL 17.484375 21.921875 \r\nQ 17.484375 14.15625 20.5 10.265625 \r\nQ 23.53125 6.390625 29.59375 6.390625 \r\nQ 36.859375 6.390625 41.078125 11.03125 \r\nQ 45.3125 15.671875 45.3125 23.6875 \r\nL 45.3125 54.6875 \r\nL 54.296875 54.6875 \r\nL 54.296875 0 \r\nL 45.3125 0 \r\nL 45.3125 8.40625 \r\nQ 42.046875 3.421875 37.71875 1 \r\nQ 33.40625 -1.421875 27.6875 -1.421875 \r\nQ 18.265625 -1.421875 13.375 4.4375 \r\nQ 8.5 10.296875 8.5 21.578125 \r\nz\r\nM 31.109375 56 \r\nz\r\n\" id=\"DejaVuSans-117\"/>\r\n     <path d=\"M 56.203125 29.59375 \r\nL 56.203125 25.203125 \r\nL 14.890625 25.203125 \r\nQ 15.484375 15.921875 20.484375 11.0625 \r\nQ 25.484375 6.203125 34.421875 6.203125 \r\nQ 39.59375 6.203125 44.453125 7.46875 \r\nQ 49.3125 8.734375 54.109375 11.28125 \r\nL 54.109375 2.78125 \r\nQ 49.265625 0.734375 44.1875 -0.34375 \r\nQ 39.109375 -1.421875 33.890625 -1.421875 \r\nQ 20.796875 -1.421875 13.15625 6.1875 \r\nQ 5.515625 13.8125 5.515625 26.8125 \r\nQ 5.515625 40.234375 12.765625 48.109375 \r\nQ 20.015625 56 32.328125 56 \r\nQ 43.359375 56 49.78125 48.890625 \r\nQ 56.203125 41.796875 56.203125 29.59375 \r\nz\r\nM 47.21875 32.234375 \r\nQ 47.125 39.59375 43.09375 43.984375 \r\nQ 39.0625 48.390625 32.421875 48.390625 \r\nQ 24.90625 48.390625 20.390625 44.140625 \r\nQ 15.875 39.890625 15.1875 32.171875 \r\nz\r\n\" id=\"DejaVuSans-101\"/>\r\n     <path d=\"M 3.328125 72.90625 \r\nL 13.28125 72.90625 \r\nL 28.609375 11.28125 \r\nL 43.890625 72.90625 \r\nL 54.984375 72.90625 \r\nL 70.3125 11.28125 \r\nL 85.59375 72.90625 \r\nL 95.609375 72.90625 \r\nL 77.296875 0 \r\nL 64.890625 0 \r\nL 49.515625 63.28125 \r\nL 33.984375 0 \r\nL 21.578125 0 \r\nz\r\n\" id=\"DejaVuSans-87\"/>\r\n     <path d=\"M 34.28125 27.484375 \r\nQ 23.390625 27.484375 19.1875 25 \r\nQ 14.984375 22.515625 14.984375 16.5 \r\nQ 14.984375 11.71875 18.140625 8.90625 \r\nQ 21.296875 6.109375 26.703125 6.109375 \r\nQ 34.1875 6.109375 38.703125 11.40625 \r\nQ 43.21875 16.703125 43.21875 25.484375 \r\nL 43.21875 27.484375 \r\nz\r\nM 52.203125 31.203125 \r\nL 52.203125 0 \r\nL 43.21875 0 \r\nL 43.21875 8.296875 \r\nQ 40.140625 3.328125 35.546875 0.953125 \r\nQ 30.953125 -1.421875 24.3125 -1.421875 \r\nQ 15.921875 -1.421875 10.953125 3.296875 \r\nQ 6 8.015625 6 15.921875 \r\nQ 6 25.140625 12.171875 29.828125 \r\nQ 18.359375 34.515625 30.609375 34.515625 \r\nL 43.21875 34.515625 \r\nL 43.21875 35.40625 \r\nQ 43.21875 41.609375 39.140625 45 \r\nQ 35.0625 48.390625 27.6875 48.390625 \r\nQ 23 48.390625 18.546875 47.265625 \r\nQ 14.109375 46.140625 10.015625 43.890625 \r\nL 10.015625 52.203125 \r\nQ 14.9375 54.109375 19.578125 55.046875 \r\nQ 24.21875 56 28.609375 56 \r\nQ 40.484375 56 46.34375 49.84375 \r\nQ 52.203125 43.703125 52.203125 31.203125 \r\nz\r\n\" id=\"DejaVuSans-97\"/>\r\n     <path d=\"M 41.109375 46.296875 \r\nQ 39.59375 47.171875 37.8125 47.578125 \r\nQ 36.03125 48 33.890625 48 \r\nQ 26.265625 48 22.1875 43.046875 \r\nQ 18.109375 38.09375 18.109375 28.8125 \r\nL 18.109375 0 \r\nL 9.078125 0 \r\nL 9.078125 54.6875 \r\nL 18.109375 54.6875 \r\nL 18.109375 46.1875 \r\nQ 20.953125 51.171875 25.484375 53.578125 \r\nQ 30.03125 56 36.53125 56 \r\nQ 37.453125 56 38.578125 55.875 \r\nQ 39.703125 55.765625 41.0625 55.515625 \r\nz\r\n\" id=\"DejaVuSans-114\"/>\r\n     <path d=\"M 45.40625 46.390625 \r\nL 45.40625 75.984375 \r\nL 54.390625 75.984375 \r\nL 54.390625 0 \r\nL 45.40625 0 \r\nL 45.40625 8.203125 \r\nQ 42.578125 3.328125 38.25 0.953125 \r\nQ 33.9375 -1.421875 27.875 -1.421875 \r\nQ 17.96875 -1.421875 11.734375 6.484375 \r\nQ 5.515625 14.40625 5.515625 27.296875 \r\nQ 5.515625 40.1875 11.734375 48.09375 \r\nQ 17.96875 56 27.875 56 \r\nQ 33.9375 56 38.25 53.625 \r\nQ 42.578125 51.265625 45.40625 46.390625 \r\nz\r\nM 14.796875 27.296875 \r\nQ 14.796875 17.390625 18.875 11.75 \r\nQ 22.953125 6.109375 30.078125 6.109375 \r\nQ 37.203125 6.109375 41.296875 11.75 \r\nQ 45.40625 17.390625 45.40625 27.296875 \r\nQ 45.40625 37.203125 41.296875 42.84375 \r\nQ 37.203125 48.484375 30.078125 48.484375 \r\nQ 22.953125 48.484375 18.875 42.84375 \r\nQ 14.796875 37.203125 14.796875 27.296875 \r\nz\r\n\" id=\"DejaVuSans-100\"/>\r\n     <path d=\"M 44.28125 53.078125 \r\nL 44.28125 44.578125 \r\nQ 40.484375 46.53125 36.375 47.5 \r\nQ 32.28125 48.484375 27.875 48.484375 \r\nQ 21.1875 48.484375 17.84375 46.4375 \r\nQ 14.5 44.390625 14.5 40.28125 \r\nQ 14.5 37.15625 16.890625 35.375 \r\nQ 19.28125 33.59375 26.515625 31.984375 \r\nL 29.59375 31.296875 \r\nQ 39.15625 29.25 43.1875 25.515625 \r\nQ 47.21875 21.78125 47.21875 15.09375 \r\nQ 47.21875 7.46875 41.1875 3.015625 \r\nQ 35.15625 -1.421875 24.609375 -1.421875 \r\nQ 20.21875 -1.421875 15.453125 -0.5625 \r\nQ 10.6875 0.296875 5.421875 2 \r\nL 5.421875 11.28125 \r\nQ 10.40625 8.6875 15.234375 7.390625 \r\nQ 20.0625 6.109375 24.8125 6.109375 \r\nQ 31.15625 6.109375 34.5625 8.28125 \r\nQ 37.984375 10.453125 37.984375 14.40625 \r\nQ 37.984375 18.0625 35.515625 20.015625 \r\nQ 33.0625 21.96875 24.703125 23.78125 \r\nL 21.578125 24.515625 \r\nQ 13.234375 26.265625 9.515625 29.90625 \r\nQ 5.8125 33.546875 5.8125 39.890625 \r\nQ 5.8125 47.609375 11.28125 51.796875 \r\nQ 16.75 56 26.8125 56 \r\nQ 31.78125 56 36.171875 55.265625 \r\nQ 40.578125 54.546875 44.28125 53.078125 \r\nz\r\n\" id=\"DejaVuSans-115\"/>\r\n     <path d=\"M 19.671875 64.796875 \r\nL 19.671875 37.40625 \r\nL 32.078125 37.40625 \r\nQ 38.96875 37.40625 42.71875 40.96875 \r\nQ 46.484375 44.53125 46.484375 51.125 \r\nQ 46.484375 57.671875 42.71875 61.234375 \r\nQ 38.96875 64.796875 32.078125 64.796875 \r\nz\r\nM 9.8125 72.90625 \r\nL 32.078125 72.90625 \r\nQ 44.34375 72.90625 50.609375 67.359375 \r\nQ 56.890625 61.8125 56.890625 51.125 \r\nQ 56.890625 40.328125 50.609375 34.8125 \r\nQ 44.34375 29.296875 32.078125 29.296875 \r\nL 19.671875 29.296875 \r\nL 19.671875 0 \r\nL 9.8125 0 \r\nz\r\n\" id=\"DejaVuSans-80\"/>\r\n     <path d=\"M 48.78125 52.59375 \r\nL 48.78125 44.1875 \r\nQ 44.96875 46.296875 41.140625 47.34375 \r\nQ 37.3125 48.390625 33.40625 48.390625 \r\nQ 24.65625 48.390625 19.8125 42.84375 \r\nQ 14.984375 37.3125 14.984375 27.296875 \r\nQ 14.984375 17.28125 19.8125 11.734375 \r\nQ 24.65625 6.203125 33.40625 6.203125 \r\nQ 37.3125 6.203125 41.140625 7.25 \r\nQ 44.96875 8.296875 48.78125 10.40625 \r\nL 48.78125 2.09375 \r\nQ 45.015625 0.34375 40.984375 -0.53125 \r\nQ 36.96875 -1.421875 32.421875 -1.421875 \r\nQ 20.0625 -1.421875 12.78125 6.34375 \r\nQ 5.515625 14.109375 5.515625 27.296875 \r\nQ 5.515625 40.671875 12.859375 48.328125 \r\nQ 20.21875 56 33.015625 56 \r\nQ 37.15625 56 41.109375 55.140625 \r\nQ 45.0625 54.296875 48.78125 52.59375 \r\nz\r\n\" id=\"DejaVuSans-99\"/>\r\n    </defs>\r\n    <g transform=\"translate(60.696671 16.318125)scale(0.12 -0.12)\">\r\n     <use xlink:href=\"#DejaVuSans-98\"/>\r\n     <use x=\"63.476562\" xlink:href=\"#DejaVuSans-108\"/>\r\n     <use x=\"91.259766\" xlink:href=\"#DejaVuSans-117\"/>\r\n     <use x=\"154.638672\" xlink:href=\"#DejaVuSans-101\"/>\r\n     <use x=\"216.162109\" xlink:href=\"#DejaVuSans-87\"/>\r\n     <use x=\"314.945312\" xlink:href=\"#DejaVuSans-97\"/>\r\n     <use x=\"376.224609\" xlink:href=\"#DejaVuSans-114\"/>\r\n     <use x=\"417.322266\" xlink:href=\"#DejaVuSans-100\"/>\r\n     <use x=\"480.798828\" xlink:href=\"#DejaVuSans-115\"/>\r\n     <use x=\"532.898438\" xlink:href=\"#DejaVuSans-80\"/>\r\n     <use x=\"593.201172\" xlink:href=\"#DejaVuSans-108\"/>\r\n     <use x=\"620.984375\" xlink:href=\"#DejaVuSans-97\"/>\r\n     <use x=\"682.263672\" xlink:href=\"#DejaVuSans-99\"/>\r\n     <use x=\"737.244141\" xlink:href=\"#DejaVuSans-101\"/>\r\n     <use x=\"798.767578\" xlink:href=\"#DejaVuSans-100\"/>\r\n    </g>\r\n   </g>\r\n  </g>\r\n  <g id=\"axes_2\">\r\n   <g id=\"patch_47\">\r\n    <path d=\"M 228.884783 239.758125 \r\nL 374.45 239.758125 \r\nL 374.45 22.318125 \r\nL 228.884783 22.318125 \r\nz\r\n\" style=\"fill:#ffffff;\"/>\r\n   </g>\r\n   <g id=\"patch_48\">\r\n    <path clip-path=\"url(#p0608e0eb9d)\" d=\"M 235.501383 239.758125 \r\nL 238.809684 239.758125 \r\nL 238.809684 212.913086 \r\nL 235.501383 212.913086 \r\nz\r\n\" style=\"fill:#1f77b4;\"/>\r\n   </g>\r\n   <g id=\"patch_49\">\r\n    <path clip-path=\"url(#p0608e0eb9d)\" d=\"M 238.809684 239.758125 \r\nL 242.117984 239.758125 \r\nL 242.117984 32.672411 \r\nL 238.809684 32.672411 \r\nz\r\n\" style=\"fill:#1f77b4;\"/>\r\n   </g>\r\n   <g id=\"patch_50\">\r\n    <path clip-path=\"url(#p0608e0eb9d)\" d=\"M 242.117984 239.758125 \r\nL 245.426285 239.758125 \r\nL 245.426285 212.848863 \r\nL 242.117984 212.848863 \r\nz\r\n\" style=\"fill:#1f77b4;\"/>\r\n   </g>\r\n   <g id=\"patch_51\">\r\n    <path clip-path=\"url(#p0608e0eb9d)\" d=\"M 245.426285 239.758125 \r\nL 248.734585 239.758125 \r\nL 248.734585 234.299206 \r\nL 245.426285 234.299206 \r\nz\r\n\" style=\"fill:#1f77b4;\"/>\r\n   </g>\r\n   <g id=\"patch_52\">\r\n    <path clip-path=\"url(#p0608e0eb9d)\" d=\"M 248.734585 239.758125 \r\nL 252.042885 239.758125 \r\nL 252.042885 221.454689 \r\nL 248.734585 221.454689 \r\nz\r\n\" style=\"fill:#1f77b4;\"/>\r\n   </g>\r\n   <g id=\"patch_53\">\r\n    <path clip-path=\"url(#p0608e0eb9d)\" d=\"M 252.042885 239.758125 \r\nL 255.351186 239.758125 \r\nL 255.351186 228.808175 \r\nL 252.042885 228.808175 \r\nz\r\n\" style=\"fill:#1f77b4;\"/>\r\n   </g>\r\n   <g id=\"patch_54\">\r\n    <path clip-path=\"url(#p0608e0eb9d)\" d=\"M 255.351186 239.758125 \r\nL 258.659486 239.758125 \r\nL 258.659486 233.91387 \r\nL 255.351186 233.91387 \r\nz\r\n\" style=\"fill:#1f77b4;\"/>\r\n   </g>\r\n   <g id=\"patch_55\">\r\n    <path clip-path=\"url(#p0608e0eb9d)\" d=\"M 258.659486 239.758125 \r\nL 261.967787 239.758125 \r\nL 261.967787 235.872659 \r\nL 258.659486 235.872659 \r\nz\r\n\" style=\"fill:#1f77b4;\"/>\r\n   </g>\r\n   <g id=\"patch_56\">\r\n    <path clip-path=\"url(#p0608e0eb9d)\" d=\"M 261.967787 239.758125 \r\nL 265.276087 239.758125 \r\nL 265.276087 237.478223 \r\nL 261.967787 237.478223 \r\nz\r\n\" style=\"fill:#1f77b4;\"/>\r\n   </g>\r\n   <g id=\"patch_57\">\r\n    <path clip-path=\"url(#p0608e0eb9d)\" d=\"M 265.276087 239.758125 \r\nL 268.584387 239.758125 \r\nL 268.584387 238.698452 \r\nL 265.276087 238.698452 \r\nz\r\n\" style=\"fill:#1f77b4;\"/>\r\n   </g>\r\n   <g id=\"patch_58\">\r\n    <path clip-path=\"url(#p0608e0eb9d)\" d=\"M 268.584387 239.758125 \r\nL 271.892688 239.758125 \r\nL 271.892688 238.248894 \r\nL 268.584387 238.248894 \r\nz\r\n\" style=\"fill:#1f77b4;\"/>\r\n   </g>\r\n   <g id=\"patch_59\">\r\n    <path clip-path=\"url(#p0608e0eb9d)\" d=\"M 271.892688 239.758125 \r\nL 275.200988 239.758125 \r\nL 275.200988 237.703002 \r\nL 271.892688 237.703002 \r\nz\r\n\" style=\"fill:#1f77b4;\"/>\r\n   </g>\r\n   <g id=\"patch_60\">\r\n    <path clip-path=\"url(#p0608e0eb9d)\" d=\"M 275.200988 239.758125 \r\nL 278.509289 239.758125 \r\nL 278.509289 238.730564 \r\nL 275.200988 238.730564 \r\nz\r\n\" style=\"fill:#1f77b4;\"/>\r\n   </g>\r\n   <g id=\"patch_61\">\r\n    <path clip-path=\"url(#p0608e0eb9d)\" d=\"M 278.509289 239.758125 \r\nL 281.817589 239.758125 \r\nL 281.817589 239.244344 \r\nL 278.509289 239.244344 \r\nz\r\n\" style=\"fill:#1f77b4;\"/>\r\n   </g>\r\n   <g id=\"patch_62\">\r\n    <path clip-path=\"url(#p0608e0eb9d)\" d=\"M 281.817589 239.758125 \r\nL 285.125889 239.758125 \r\nL 285.125889 239.083788 \r\nL 281.817589 239.083788 \r\nz\r\n\" style=\"fill:#1f77b4;\"/>\r\n   </g>\r\n   <g id=\"patch_63\">\r\n    <path clip-path=\"url(#p0608e0eb9d)\" d=\"M 285.125889 239.758125 \r\nL 288.43419 239.758125 \r\nL 288.43419 239.62968 \r\nL 285.125889 239.62968 \r\nz\r\n\" style=\"fill:#1f77b4;\"/>\r\n   </g>\r\n   <g id=\"patch_64\">\r\n    <path clip-path=\"url(#p0608e0eb9d)\" d=\"M 288.43419 239.758125 \r\nL 291.74249 239.758125 \r\nL 291.74249 239.469123 \r\nL 288.43419 239.469123 \r\nz\r\n\" style=\"fill:#1f77b4;\"/>\r\n   </g>\r\n   <g id=\"patch_65\">\r\n    <path clip-path=\"url(#p0608e0eb9d)\" d=\"M 291.74249 239.758125 \r\nL 295.050791 239.758125 \r\nL 295.050791 239.212233 \r\nL 291.74249 239.212233 \r\nz\r\n\" style=\"fill:#1f77b4;\"/>\r\n   </g>\r\n   <g id=\"patch_66\">\r\n    <path clip-path=\"url(#p0608e0eb9d)\" d=\"M 295.050791 239.758125 \r\nL 298.359091 239.758125 \r\nL 298.359091 239.501235 \r\nL 295.050791 239.501235 \r\nz\r\n\" style=\"fill:#1f77b4;\"/>\r\n   </g>\r\n   <g id=\"patch_67\">\r\n    <path clip-path=\"url(#p0608e0eb9d)\" d=\"M 298.359091 239.758125 \r\nL 301.667391 239.758125 \r\nL 301.667391 239.533346 \r\nL 298.359091 239.533346 \r\nz\r\n\" style=\"fill:#1f77b4;\"/>\r\n   </g>\r\n   <g id=\"patch_68\">\r\n    <path clip-path=\"url(#p0608e0eb9d)\" d=\"M 301.667391 239.758125 \r\nL 304.975692 239.758125 \r\nL 304.975692 239.276456 \r\nL 301.667391 239.276456 \r\nz\r\n\" style=\"fill:#1f77b4;\"/>\r\n   </g>\r\n   <g id=\"patch_69\">\r\n    <path clip-path=\"url(#p0608e0eb9d)\" d=\"M 304.975692 239.758125 \r\nL 308.283992 239.758125 \r\nL 308.283992 239.693902 \r\nL 304.975692 239.693902 \r\nz\r\n\" style=\"fill:#1f77b4;\"/>\r\n   </g>\r\n   <g id=\"patch_70\">\r\n    <path clip-path=\"url(#p0608e0eb9d)\" d=\"M 308.283992 239.758125 \r\nL 311.592292 239.758125 \r\nL 311.592292 239.726014 \r\nL 308.283992 239.726014 \r\nz\r\n\" style=\"fill:#1f77b4;\"/>\r\n   </g>\r\n   <g id=\"patch_71\">\r\n    <path clip-path=\"url(#p0608e0eb9d)\" d=\"M 311.592292 239.758125 \r\nL 314.900593 239.758125 \r\nL 314.900593 239.597569 \r\nL 311.592292 239.597569 \r\nz\r\n\" style=\"fill:#1f77b4;\"/>\r\n   </g>\r\n   <g id=\"patch_72\">\r\n    <path clip-path=\"url(#p0608e0eb9d)\" d=\"M 314.900593 239.758125 \r\nL 318.208893 239.758125 \r\nL 318.208893 239.597569 \r\nL 314.900593 239.597569 \r\nz\r\n\" style=\"fill:#1f77b4;\"/>\r\n   </g>\r\n   <g id=\"patch_73\">\r\n    <path clip-path=\"url(#p0608e0eb9d)\" d=\"M 318.208893 239.758125 \r\nL 321.517194 239.758125 \r\nL 321.517194 239.661791 \r\nL 318.208893 239.661791 \r\nz\r\n\" style=\"fill:#1f77b4;\"/>\r\n   </g>\r\n   <g id=\"patch_74\">\r\n    <path clip-path=\"url(#p0608e0eb9d)\" d=\"M 321.517194 239.758125 \r\nL 324.825494 239.758125 \r\nL 324.825494 239.693902 \r\nL 321.517194 239.693902 \r\nz\r\n\" style=\"fill:#1f77b4;\"/>\r\n   </g>\r\n   <g id=\"patch_75\">\r\n    <path clip-path=\"url(#p0608e0eb9d)\" d=\"M 324.825494 239.758125 \r\nL 328.133794 239.758125 \r\nL 328.133794 239.693902 \r\nL 324.825494 239.693902 \r\nz\r\n\" style=\"fill:#1f77b4;\"/>\r\n   </g>\r\n   <g id=\"patch_76\">\r\n    <path clip-path=\"url(#p0608e0eb9d)\" d=\"M 328.133794 239.758125 \r\nL 331.442095 239.758125 \r\nL 331.442095 239.758125 \r\nL 328.133794 239.758125 \r\nz\r\n\" style=\"fill:#1f77b4;\"/>\r\n   </g>\r\n   <g id=\"patch_77\">\r\n    <path clip-path=\"url(#p0608e0eb9d)\" d=\"M 331.442095 239.758125 \r\nL 334.750395 239.758125 \r\nL 334.750395 239.661791 \r\nL 331.442095 239.661791 \r\nz\r\n\" style=\"fill:#1f77b4;\"/>\r\n   </g>\r\n   <g id=\"patch_78\">\r\n    <path clip-path=\"url(#p0608e0eb9d)\" d=\"M 334.750395 239.758125 \r\nL 338.058696 239.758125 \r\nL 338.058696 239.726014 \r\nL 334.750395 239.726014 \r\nz\r\n\" style=\"fill:#1f77b4;\"/>\r\n   </g>\r\n   <g id=\"patch_79\">\r\n    <path clip-path=\"url(#p0608e0eb9d)\" d=\"M 338.058696 239.758125 \r\nL 341.366996 239.758125 \r\nL 341.366996 239.726014 \r\nL 338.058696 239.726014 \r\nz\r\n\" style=\"fill:#1f77b4;\"/>\r\n   </g>\r\n   <g id=\"patch_80\">\r\n    <path clip-path=\"url(#p0608e0eb9d)\" d=\"M 341.366996 239.758125 \r\nL 344.675296 239.758125 \r\nL 344.675296 239.758125 \r\nL 341.366996 239.758125 \r\nz\r\n\" style=\"fill:#1f77b4;\"/>\r\n   </g>\r\n   <g id=\"patch_81\">\r\n    <path clip-path=\"url(#p0608e0eb9d)\" d=\"M 344.675296 239.758125 \r\nL 347.983597 239.758125 \r\nL 347.983597 239.726014 \r\nL 344.675296 239.726014 \r\nz\r\n\" style=\"fill:#1f77b4;\"/>\r\n   </g>\r\n   <g id=\"patch_82\">\r\n    <path clip-path=\"url(#p0608e0eb9d)\" d=\"M 347.983597 239.758125 \r\nL 351.291897 239.758125 \r\nL 351.291897 239.758125 \r\nL 347.983597 239.758125 \r\nz\r\n\" style=\"fill:#1f77b4;\"/>\r\n   </g>\r\n   <g id=\"patch_83\">\r\n    <path clip-path=\"url(#p0608e0eb9d)\" d=\"M 351.291897 239.758125 \r\nL 354.600198 239.758125 \r\nL 354.600198 239.758125 \r\nL 351.291897 239.758125 \r\nz\r\n\" style=\"fill:#1f77b4;\"/>\r\n   </g>\r\n   <g id=\"patch_84\">\r\n    <path clip-path=\"url(#p0608e0eb9d)\" d=\"M 354.600198 239.758125 \r\nL 357.908498 239.758125 \r\nL 357.908498 239.758125 \r\nL 354.600198 239.758125 \r\nz\r\n\" style=\"fill:#1f77b4;\"/>\r\n   </g>\r\n   <g id=\"patch_85\">\r\n    <path clip-path=\"url(#p0608e0eb9d)\" d=\"M 357.908498 239.758125 \r\nL 361.216798 239.758125 \r\nL 361.216798 239.758125 \r\nL 357.908498 239.758125 \r\nz\r\n\" style=\"fill:#1f77b4;\"/>\r\n   </g>\r\n   <g id=\"patch_86\">\r\n    <path clip-path=\"url(#p0608e0eb9d)\" d=\"M 361.216798 239.758125 \r\nL 364.525099 239.758125 \r\nL 364.525099 239.726014 \r\nL 361.216798 239.726014 \r\nz\r\n\" style=\"fill:#1f77b4;\"/>\r\n   </g>\r\n   <g id=\"patch_87\">\r\n    <path clip-path=\"url(#p0608e0eb9d)\" d=\"M 364.525099 239.758125 \r\nL 367.833399 239.758125 \r\nL 367.833399 239.726014 \r\nL 364.525099 239.726014 \r\nz\r\n\" style=\"fill:#1f77b4;\"/>\r\n   </g>\r\n   <g id=\"matplotlib.axis_3\">\r\n    <g id=\"xtick_4\">\r\n     <g id=\"line2d_19\">\r\n      <path clip-path=\"url(#p0608e0eb9d)\" d=\"M 232.560672 239.758125 \r\nL 232.560672 22.318125 \r\n\" style=\"fill:none;stroke:#b0b0b0;stroke-linecap:square;stroke-width:0.8;\"/>\r\n     </g>\r\n     <g id=\"line2d_20\">\r\n      <g>\r\n       <use style=\"stroke:#000000;stroke-width:0.8;\" x=\"232.560672\" xlink:href=\"#me3e7c6185c\" y=\"239.758125\"/>\r\n      </g>\r\n     </g>\r\n     <g id=\"text_11\">\r\n      <!-- 0 -->\r\n      <g transform=\"translate(229.379422 254.356563)scale(0.1 -0.1)\">\r\n       <use xlink:href=\"#DejaVuSans-48\"/>\r\n      </g>\r\n     </g>\r\n    </g>\r\n    <g id=\"xtick_5\">\r\n     <g id=\"line2d_21\">\r\n      <path clip-path=\"url(#p0608e0eb9d)\" d=\"M 281.57253 239.758125 \r\nL 281.57253 22.318125 \r\n\" style=\"fill:none;stroke:#b0b0b0;stroke-linecap:square;stroke-width:0.8;\"/>\r\n     </g>\r\n     <g id=\"line2d_22\">\r\n      <g>\r\n       <use style=\"stroke:#000000;stroke-width:0.8;\" x=\"281.57253\" xlink:href=\"#me3e7c6185c\" y=\"239.758125\"/>\r\n      </g>\r\n     </g>\r\n     <g id=\"text_12\">\r\n      <!-- 100 -->\r\n      <g transform=\"translate(272.02878 254.356563)scale(0.1 -0.1)\">\r\n       <use xlink:href=\"#DejaVuSans-49\"/>\r\n       <use x=\"63.623047\" xlink:href=\"#DejaVuSans-48\"/>\r\n       <use x=\"127.246094\" xlink:href=\"#DejaVuSans-48\"/>\r\n      </g>\r\n     </g>\r\n    </g>\r\n    <g id=\"xtick_6\">\r\n     <g id=\"line2d_23\">\r\n      <path clip-path=\"url(#p0608e0eb9d)\" d=\"M 330.584387 239.758125 \r\nL 330.584387 22.318125 \r\n\" style=\"fill:none;stroke:#b0b0b0;stroke-linecap:square;stroke-width:0.8;\"/>\r\n     </g>\r\n     <g id=\"line2d_24\">\r\n      <g>\r\n       <use style=\"stroke:#000000;stroke-width:0.8;\" x=\"330.584387\" xlink:href=\"#me3e7c6185c\" y=\"239.758125\"/>\r\n      </g>\r\n     </g>\r\n     <g id=\"text_13\">\r\n      <!-- 200 -->\r\n      <g transform=\"translate(321.040637 254.356563)scale(0.1 -0.1)\">\r\n       <use xlink:href=\"#DejaVuSans-50\"/>\r\n       <use x=\"63.623047\" xlink:href=\"#DejaVuSans-48\"/>\r\n       <use x=\"127.246094\" xlink:href=\"#DejaVuSans-48\"/>\r\n      </g>\r\n     </g>\r\n    </g>\r\n   </g>\r\n   <g id=\"matplotlib.axis_4\">\r\n    <g id=\"ytick_7\">\r\n     <g id=\"line2d_25\">\r\n      <path clip-path=\"url(#p0608e0eb9d)\" d=\"M 228.884783 239.758125 \r\nL 374.45 239.758125 \r\n\" style=\"fill:none;stroke:#b0b0b0;stroke-linecap:square;stroke-width:0.8;\"/>\r\n     </g>\r\n     <g id=\"line2d_26\">\r\n      <g>\r\n       <use style=\"stroke:#000000;stroke-width:0.8;\" x=\"228.884783\" xlink:href=\"#m64bbb1f2c1\" y=\"239.758125\"/>\r\n      </g>\r\n     </g>\r\n     <g id=\"text_14\">\r\n      <!-- 0 -->\r\n      <g transform=\"translate(215.522283 243.557344)scale(0.1 -0.1)\">\r\n       <use xlink:href=\"#DejaVuSans-48\"/>\r\n      </g>\r\n     </g>\r\n    </g>\r\n    <g id=\"ytick_8\">\r\n     <g id=\"line2d_27\">\r\n      <path clip-path=\"url(#p0608e0eb9d)\" d=\"M 228.884783 207.646834 \r\nL 374.45 207.646834 \r\n\" style=\"fill:none;stroke:#b0b0b0;stroke-linecap:square;stroke-width:0.8;\"/>\r\n     </g>\r\n     <g id=\"line2d_28\">\r\n      <g>\r\n       <use style=\"stroke:#000000;stroke-width:0.8;\" x=\"228.884783\" xlink:href=\"#m64bbb1f2c1\" y=\"207.646834\"/>\r\n      </g>\r\n     </g>\r\n     <g id=\"text_15\">\r\n      <!-- 1000 -->\r\n      <g transform=\"translate(196.434783 211.446053)scale(0.1 -0.1)\">\r\n       <use xlink:href=\"#DejaVuSans-49\"/>\r\n       <use x=\"63.623047\" xlink:href=\"#DejaVuSans-48\"/>\r\n       <use x=\"127.246094\" xlink:href=\"#DejaVuSans-48\"/>\r\n       <use x=\"190.869141\" xlink:href=\"#DejaVuSans-48\"/>\r\n      </g>\r\n     </g>\r\n    </g>\r\n    <g id=\"ytick_9\">\r\n     <g id=\"line2d_29\">\r\n      <path clip-path=\"url(#p0608e0eb9d)\" d=\"M 228.884783 175.535543 \r\nL 374.45 175.535543 \r\n\" style=\"fill:none;stroke:#b0b0b0;stroke-linecap:square;stroke-width:0.8;\"/>\r\n     </g>\r\n     <g id=\"line2d_30\">\r\n      <g>\r\n       <use style=\"stroke:#000000;stroke-width:0.8;\" x=\"228.884783\" xlink:href=\"#m64bbb1f2c1\" y=\"175.535543\"/>\r\n      </g>\r\n     </g>\r\n     <g id=\"text_16\">\r\n      <!-- 2000 -->\r\n      <g transform=\"translate(196.434783 179.334762)scale(0.1 -0.1)\">\r\n       <use xlink:href=\"#DejaVuSans-50\"/>\r\n       <use x=\"63.623047\" xlink:href=\"#DejaVuSans-48\"/>\r\n       <use x=\"127.246094\" xlink:href=\"#DejaVuSans-48\"/>\r\n       <use x=\"190.869141\" xlink:href=\"#DejaVuSans-48\"/>\r\n      </g>\r\n     </g>\r\n    </g>\r\n    <g id=\"ytick_10\">\r\n     <g id=\"line2d_31\">\r\n      <path clip-path=\"url(#p0608e0eb9d)\" d=\"M 228.884783 143.424253 \r\nL 374.45 143.424253 \r\n\" style=\"fill:none;stroke:#b0b0b0;stroke-linecap:square;stroke-width:0.8;\"/>\r\n     </g>\r\n     <g id=\"line2d_32\">\r\n      <g>\r\n       <use style=\"stroke:#000000;stroke-width:0.8;\" x=\"228.884783\" xlink:href=\"#m64bbb1f2c1\" y=\"143.424253\"/>\r\n      </g>\r\n     </g>\r\n     <g id=\"text_17\">\r\n      <!-- 3000 -->\r\n      <g transform=\"translate(196.434783 147.223471)scale(0.1 -0.1)\">\r\n       <use xlink:href=\"#DejaVuSans-51\"/>\r\n       <use x=\"63.623047\" xlink:href=\"#DejaVuSans-48\"/>\r\n       <use x=\"127.246094\" xlink:href=\"#DejaVuSans-48\"/>\r\n       <use x=\"190.869141\" xlink:href=\"#DejaVuSans-48\"/>\r\n      </g>\r\n     </g>\r\n    </g>\r\n    <g id=\"ytick_11\">\r\n     <g id=\"line2d_33\">\r\n      <path clip-path=\"url(#p0608e0eb9d)\" d=\"M 228.884783 111.312962 \r\nL 374.45 111.312962 \r\n\" style=\"fill:none;stroke:#b0b0b0;stroke-linecap:square;stroke-width:0.8;\"/>\r\n     </g>\r\n     <g id=\"line2d_34\">\r\n      <g>\r\n       <use style=\"stroke:#000000;stroke-width:0.8;\" x=\"228.884783\" xlink:href=\"#m64bbb1f2c1\" y=\"111.312962\"/>\r\n      </g>\r\n     </g>\r\n     <g id=\"text_18\">\r\n      <!-- 4000 -->\r\n      <g transform=\"translate(196.434783 115.112181)scale(0.1 -0.1)\">\r\n       <use xlink:href=\"#DejaVuSans-52\"/>\r\n       <use x=\"63.623047\" xlink:href=\"#DejaVuSans-48\"/>\r\n       <use x=\"127.246094\" xlink:href=\"#DejaVuSans-48\"/>\r\n       <use x=\"190.869141\" xlink:href=\"#DejaVuSans-48\"/>\r\n      </g>\r\n     </g>\r\n    </g>\r\n    <g id=\"ytick_12\">\r\n     <g id=\"line2d_35\">\r\n      <path clip-path=\"url(#p0608e0eb9d)\" d=\"M 228.884783 79.201671 \r\nL 374.45 79.201671 \r\n\" style=\"fill:none;stroke:#b0b0b0;stroke-linecap:square;stroke-width:0.8;\"/>\r\n     </g>\r\n     <g id=\"line2d_36\">\r\n      <g>\r\n       <use style=\"stroke:#000000;stroke-width:0.8;\" x=\"228.884783\" xlink:href=\"#m64bbb1f2c1\" y=\"79.201671\"/>\r\n      </g>\r\n     </g>\r\n     <g id=\"text_19\">\r\n      <!-- 5000 -->\r\n      <g transform=\"translate(196.434783 83.00089)scale(0.1 -0.1)\">\r\n       <use xlink:href=\"#DejaVuSans-53\"/>\r\n       <use x=\"63.623047\" xlink:href=\"#DejaVuSans-48\"/>\r\n       <use x=\"127.246094\" xlink:href=\"#DejaVuSans-48\"/>\r\n       <use x=\"190.869141\" xlink:href=\"#DejaVuSans-48\"/>\r\n      </g>\r\n     </g>\r\n    </g>\r\n    <g id=\"ytick_13\">\r\n     <g id=\"line2d_37\">\r\n      <path clip-path=\"url(#p0608e0eb9d)\" d=\"M 228.884783 47.09038 \r\nL 374.45 47.09038 \r\n\" style=\"fill:none;stroke:#b0b0b0;stroke-linecap:square;stroke-width:0.8;\"/>\r\n     </g>\r\n     <g id=\"line2d_38\">\r\n      <g>\r\n       <use style=\"stroke:#000000;stroke-width:0.8;\" x=\"228.884783\" xlink:href=\"#m64bbb1f2c1\" y=\"47.09038\"/>\r\n      </g>\r\n     </g>\r\n     <g id=\"text_20\">\r\n      <!-- 6000 -->\r\n      <defs>\r\n       <path d=\"M 33.015625 40.375 \r\nQ 26.375 40.375 22.484375 35.828125 \r\nQ 18.609375 31.296875 18.609375 23.390625 \r\nQ 18.609375 15.53125 22.484375 10.953125 \r\nQ 26.375 6.390625 33.015625 6.390625 \r\nQ 39.65625 6.390625 43.53125 10.953125 \r\nQ 47.40625 15.53125 47.40625 23.390625 \r\nQ 47.40625 31.296875 43.53125 35.828125 \r\nQ 39.65625 40.375 33.015625 40.375 \r\nz\r\nM 52.59375 71.296875 \r\nL 52.59375 62.3125 \r\nQ 48.875 64.0625 45.09375 64.984375 \r\nQ 41.3125 65.921875 37.59375 65.921875 \r\nQ 27.828125 65.921875 22.671875 59.328125 \r\nQ 17.53125 52.734375 16.796875 39.40625 \r\nQ 19.671875 43.65625 24.015625 45.921875 \r\nQ 28.375 48.1875 33.59375 48.1875 \r\nQ 44.578125 48.1875 50.953125 41.515625 \r\nQ 57.328125 34.859375 57.328125 23.390625 \r\nQ 57.328125 12.15625 50.6875 5.359375 \r\nQ 44.046875 -1.421875 33.015625 -1.421875 \r\nQ 20.359375 -1.421875 13.671875 8.265625 \r\nQ 6.984375 17.96875 6.984375 36.375 \r\nQ 6.984375 53.65625 15.1875 63.9375 \r\nQ 23.390625 74.21875 37.203125 74.21875 \r\nQ 40.921875 74.21875 44.703125 73.484375 \r\nQ 48.484375 72.75 52.59375 71.296875 \r\nz\r\n\" id=\"DejaVuSans-54\"/>\r\n      </defs>\r\n      <g transform=\"translate(196.434783 50.889599)scale(0.1 -0.1)\">\r\n       <use xlink:href=\"#DejaVuSans-54\"/>\r\n       <use x=\"63.623047\" xlink:href=\"#DejaVuSans-48\"/>\r\n       <use x=\"127.246094\" xlink:href=\"#DejaVuSans-48\"/>\r\n       <use x=\"190.869141\" xlink:href=\"#DejaVuSans-48\"/>\r\n      </g>\r\n     </g>\r\n    </g>\r\n   </g>\r\n   <g id=\"patch_88\">\r\n    <path d=\"M 228.884783 239.758125 \r\nL 228.884783 22.318125 \r\n\" style=\"fill:none;stroke:#000000;stroke-linecap:square;stroke-linejoin:miter;stroke-width:0.8;\"/>\r\n   </g>\r\n   <g id=\"patch_89\">\r\n    <path d=\"M 374.45 239.758125 \r\nL 374.45 22.318125 \r\n\" style=\"fill:none;stroke:#000000;stroke-linecap:square;stroke-linejoin:miter;stroke-width:0.8;\"/>\r\n   </g>\r\n   <g id=\"patch_90\">\r\n    <path d=\"M 228.884783 239.758125 \r\nL 374.45 239.758125 \r\n\" style=\"fill:none;stroke:#000000;stroke-linecap:square;stroke-linejoin:miter;stroke-width:0.8;\"/>\r\n   </g>\r\n   <g id=\"patch_91\">\r\n    <path d=\"M 228.884783 22.318125 \r\nL 374.45 22.318125 \r\n\" style=\"fill:none;stroke:#000000;stroke-linecap:square;stroke-linejoin:miter;stroke-width:0.8;\"/>\r\n   </g>\r\n   <g id=\"text_21\">\r\n    <!-- redWardsPlaced -->\r\n    <g transform=\"translate(252.936141 16.318125)scale(0.12 -0.12)\">\r\n     <use xlink:href=\"#DejaVuSans-114\"/>\r\n     <use x=\"41.082031\" xlink:href=\"#DejaVuSans-101\"/>\r\n     <use x=\"102.605469\" xlink:href=\"#DejaVuSans-100\"/>\r\n     <use x=\"166.082031\" xlink:href=\"#DejaVuSans-87\"/>\r\n     <use x=\"264.865234\" xlink:href=\"#DejaVuSans-97\"/>\r\n     <use x=\"326.144531\" xlink:href=\"#DejaVuSans-114\"/>\r\n     <use x=\"367.242188\" xlink:href=\"#DejaVuSans-100\"/>\r\n     <use x=\"430.71875\" xlink:href=\"#DejaVuSans-115\"/>\r\n     <use x=\"482.818359\" xlink:href=\"#DejaVuSans-80\"/>\r\n     <use x=\"543.121094\" xlink:href=\"#DejaVuSans-108\"/>\r\n     <use x=\"570.904297\" xlink:href=\"#DejaVuSans-97\"/>\r\n     <use x=\"632.183594\" xlink:href=\"#DejaVuSans-99\"/>\r\n     <use x=\"687.164062\" xlink:href=\"#DejaVuSans-101\"/>\r\n     <use x=\"748.6875\" xlink:href=\"#DejaVuSans-100\"/>\r\n    </g>\r\n   </g>\r\n  </g>\r\n </g>\r\n <defs>\r\n  <clipPath id=\"pf0ce4ac8eb\">\r\n   <rect height=\"217.44\" width=\"145.565217\" x=\"39.65\" y=\"22.318125\"/>\r\n  </clipPath>\r\n  <clipPath id=\"p0608e0eb9d\">\r\n   <rect height=\"217.44\" width=\"145.565217\" x=\"228.884783\" y=\"22.318125\"/>\r\n  </clipPath>\r\n </defs>\r\n</svg>\r\n",
      "image/png": "[encoded data removed]"
     },
     "metadata": {
      "needs_background": "light"
     }
    }
   ],
   "source": [
    "df[['blueWardsPlaced', 'redWardsPlaced']].hist(bins=40)"
   ]
  },
  {
   "cell_type": "code",
   "execution_count": 31,
   "metadata": {},
   "outputs": [
    {
     "output_type": "execute_result",
     "data": {
      "text/plain": "       blueWardsPlaced  redWardsPlaced\ncount      9879.000000     9879.000000\nmean         22.288288       22.367952\nstd          18.019177       18.457427\nmin           5.000000        6.000000\n25%          14.000000       14.000000\n50%          16.000000       16.000000\n75%          20.000000       20.000000\nmax         250.000000      276.000000",
      "text/html": "<div>\n<style scoped>\n    .dataframe tbody tr th:only-of-type {\n        vertical-align: middle;\n    }\n\n    .dataframe tbody tr th {\n        vertical-align: top;\n    }\n\n    .dataframe thead th {\n        text-align: right;\n    }\n</style>\n<table border=\"1\" class=\"dataframe\">\n  <thead>\n    <tr style=\"text-align: right;\">\n      <th></th>\n      <th>blueWardsPlaced</th>\n      <th>redWardsPlaced</th>\n    </tr>\n  </thead>\n  <tbody>\n    <tr>\n      <th>count</th>\n      <td>9879.000000</td>\n      <td>9879.000000</td>\n    </tr>\n    <tr>\n      <th>mean</th>\n      <td>22.288288</td>\n      <td>22.367952</td>\n    </tr>\n    <tr>\n      <th>std</th>\n      <td>18.019177</td>\n      <td>18.457427</td>\n    </tr>\n    <tr>\n      <th>min</th>\n      <td>5.000000</td>\n      <td>6.000000</td>\n    </tr>\n    <tr>\n      <th>25%</th>\n      <td>14.000000</td>\n      <td>14.000000</td>\n    </tr>\n    <tr>\n      <th>50%</th>\n      <td>16.000000</td>\n      <td>16.000000</td>\n    </tr>\n    <tr>\n      <th>75%</th>\n      <td>20.000000</td>\n      <td>20.000000</td>\n    </tr>\n    <tr>\n      <th>max</th>\n      <td>250.000000</td>\n      <td>276.000000</td>\n    </tr>\n  </tbody>\n</table>\n</div>"
     },
     "metadata": {},
     "execution_count": 31
    }
   ],
   "source": [
    "df[['blueWardsPlaced', 'redWardsPlaced']].describe()"
   ]
  },
  {
   "cell_type": "code",
   "execution_count": 32,
   "metadata": {},
   "outputs": [],
   "source": [
    "# quantizing four variables \n",
    "df['blueWardsPlaced'] = pd.qcut(df['blueWardsPlaced'], 4, labels=False)\n",
    "df['redWardsPlaced'] = pd.qcut(df['redWardsPlaced'], 4, labels=False)\n",
    "df['blueWardsDestroyed'] = pd.qcut(df['blueWardsDestroyed'], 4, labels=False)\n",
    "df['redWardsDestroyed'] = pd.qcut(df['redWardsDestroyed'], 4, labels=False)\n"
   ]
  },
  {
   "cell_type": "code",
   "execution_count": 33,
   "metadata": {},
   "outputs": [
    {
     "output_type": "execute_result",
     "data": {
      "text/plain": "blueWardsPlaced\n0    2508\n1    2472\n2    2590\n3    2309\ndtype: int64"
     },
     "metadata": {},
     "execution_count": 33
    }
   ],
   "source": [
    "df.groupby(by='blueWardsPlaced').size()"
   ]
  },
  {
   "cell_type": "code",
   "execution_count": 35,
   "metadata": {},
   "outputs": [
    {
     "output_type": "execute_result",
     "data": {
      "text/plain": "       gameId  blueWins  blueWardsPlaced  blueWardsDestroyed  blueFirstBlood  \\\n0  4519157822         0                3                   1               1   \n1  4523371949         0                0                   0               0   \n2  4521474530         0                1                   0               0   \n3  4524384067         0                3                   0               0   \n4  4436033771         0                3                   2               0   \n\n   blueKills  blueDeaths  blueAssists  blueEliteMonsters  blueDragons  \\\n0          9           6           11                  0            0   \n1          5           5            5                  0            0   \n2          7          11            4                  1            1   \n3          4           5            5                  1            0   \n4          6           6            6                  0            0   \n\n   blueHeralds  blueTowersDestroyed  blueTotalGold  blueAvgLevel  \\\n0            0                    0          17210           6.6   \n1            0                    0          14712           6.6   \n2            0                    0          16113           6.4   \n3            1                    0          15157           7.0   \n4            0                    0          16400           7.0   \n\n   blueTotalExperience  blueTotalMinionsKilled  blueTotalJungleMinionsKilled  \\\n0                17039                     195                            36   \n1                16265                     174                            43   \n2                16221                     186                            46   \n3                17954                     201                            55   \n4                18543                     210                            57   \n\n   blueGoldDiff  blueExperienceDiff  blueCSPerMin  blueGoldPerMin  \\\n0           643                  -8          19.5          1721.0   \n1         -2908               -1173          17.4          1471.2   \n2         -1172               -1033          18.6          1611.3   \n3         -1321                  -7          20.1          1515.7   \n4         -1004                 230          21.0          1640.0   \n\n   redWardsPlaced  redWardsDestroyed  redFirstBlood  redKills  redDeaths  \\\n0               1                  3              0         6          9   \n1               0                  0              1         5          5   \n2               1                  2              1        11          7   \n3               1                  1              1         5          4   \n4               2                  1              1         6          6   \n\n   redAssists  redEliteMonsters  redDragons  redHeralds  redTowersDestroyed  \\\n0           8                 0           0           0                   0   \n1           2                 2           1           1                   1   \n2          14                 0           0           0                   0   \n3          10                 0           0           0                   0   \n4           7                 1           1           0                   0   \n\n   redTotalGold  redAvgLevel  redTotalExperience  redTotalMinionsKilled  \\\n0         16567          6.8               17047                    197   \n1         17620          6.8               17438                    240   \n2         17285          6.8               17254                    203   \n3         16478          7.0               17961                    235   \n4         17404          7.0               18313                    225   \n\n   redTotalJungleMinionsKilled  redGoldDiff  redExperienceDiff  redCSPerMin  \\\n0                           55         -643                  8         19.7   \n1                           52         2908               1173         24.0   \n2                           28         1172               1033         20.3   \n3                           47         1321                  7         23.5   \n4                           67         1004               -230         22.5   \n\n   redGoldPerMin  \n0         1656.7  \n1         1762.0  \n2         1728.5  \n3         1647.8  \n4         1740.4  ",
      "text/html": "<div>\n<style scoped>\n    .dataframe tbody tr th:only-of-type {\n        vertical-align: middle;\n    }\n\n    .dataframe tbody tr th {\n        vertical-align: top;\n    }\n\n    .dataframe thead th {\n        text-align: right;\n    }\n</style>\n<table border=\"1\" class=\"dataframe\">\n  <thead>\n    <tr style=\"text-align: right;\">\n      <th></th>\n      <th>gameId</th>\n      <th>blueWins</th>\n      <th>blueWardsPlaced</th>\n      <th>blueWardsDestroyed</th>\n      <th>blueFirstBlood</th>\n      <th>blueKills</th>\n      <th>blueDeaths</th>\n      <th>blueAssists</th>\n      <th>blueEliteMonsters</th>\n      <th>blueDragons</th>\n      <th>blueHeralds</th>\n      <th>blueTowersDestroyed</th>\n      <th>blueTotalGold</th>\n      <th>blueAvgLevel</th>\n      <th>blueTotalExperience</th>\n      <th>blueTotalMinionsKilled</th>\n      <th>blueTotalJungleMinionsKilled</th>\n      <th>blueGoldDiff</th>\n      <th>blueExperienceDiff</th>\n      <th>blueCSPerMin</th>\n      <th>blueGoldPerMin</th>\n      <th>redWardsPlaced</th>\n      <th>redWardsDestroyed</th>\n      <th>redFirstBlood</th>\n      <th>redKills</th>\n      <th>redDeaths</th>\n      <th>redAssists</th>\n      <th>redEliteMonsters</th>\n      <th>redDragons</th>\n      <th>redHeralds</th>\n      <th>redTowersDestroyed</th>\n      <th>redTotalGold</th>\n      <th>redAvgLevel</th>\n      <th>redTotalExperience</th>\n      <th>redTotalMinionsKilled</th>\n      <th>redTotalJungleMinionsKilled</th>\n      <th>redGoldDiff</th>\n      <th>redExperienceDiff</th>\n      <th>redCSPerMin</th>\n      <th>redGoldPerMin</th>\n    </tr>\n  </thead>\n  <tbody>\n    <tr>\n      <th>0</th>\n      <td>4519157822</td>\n      <td>0</td>\n      <td>3</td>\n      <td>1</td>\n      <td>1</td>\n      <td>9</td>\n      <td>6</td>\n      <td>11</td>\n      <td>0</td>\n      <td>0</td>\n      <td>0</td>\n      <td>0</td>\n      <td>17210</td>\n      <td>6.6</td>\n      <td>17039</td>\n      <td>195</td>\n      <td>36</td>\n      <td>643</td>\n      <td>-8</td>\n      <td>19.5</td>\n      <td>1721.0</td>\n      <td>1</td>\n      <td>3</td>\n      <td>0</td>\n      <td>6</td>\n      <td>9</td>\n      <td>8</td>\n      <td>0</td>\n      <td>0</td>\n      <td>0</td>\n      <td>0</td>\n      <td>16567</td>\n      <td>6.8</td>\n      <td>17047</td>\n      <td>197</td>\n      <td>55</td>\n      <td>-643</td>\n      <td>8</td>\n      <td>19.7</td>\n      <td>1656.7</td>\n    </tr>\n    <tr>\n      <th>1</th>\n      <td>4523371949</td>\n      <td>0</td>\n      <td>0</td>\n      <td>0</td>\n      <td>0</td>\n      <td>5</td>\n      <td>5</td>\n      <td>5</td>\n      <td>0</td>\n      <td>0</td>\n      <td>0</td>\n      <td>0</td>\n      <td>14712</td>\n      <td>6.6</td>\n      <td>16265</td>\n      <td>174</td>\n      <td>43</td>\n      <td>-2908</td>\n      <td>-1173</td>\n      <td>17.4</td>\n      <td>1471.2</td>\n      <td>0</td>\n      <td>0</td>\n      <td>1</td>\n      <td>5</td>\n      <td>5</td>\n      <td>2</td>\n      <td>2</td>\n      <td>1</td>\n      <td>1</td>\n      <td>1</td>\n      <td>17620</td>\n      <td>6.8</td>\n      <td>17438</td>\n      <td>240</td>\n      <td>52</td>\n      <td>2908</td>\n      <td>1173</td>\n      <td>24.0</td>\n      <td>1762.0</td>\n    </tr>\n    <tr>\n      <th>2</th>\n      <td>4521474530</td>\n      <td>0</td>\n      <td>1</td>\n      <td>0</td>\n      <td>0</td>\n      <td>7</td>\n      <td>11</td>\n      <td>4</td>\n      <td>1</td>\n      <td>1</td>\n      <td>0</td>\n      <td>0</td>\n      <td>16113</td>\n      <td>6.4</td>\n      <td>16221</td>\n      <td>186</td>\n      <td>46</td>\n      <td>-1172</td>\n      <td>-1033</td>\n      <td>18.6</td>\n      <td>1611.3</td>\n      <td>1</td>\n      <td>2</td>\n      <td>1</td>\n      <td>11</td>\n      <td>7</td>\n      <td>14</td>\n      <td>0</td>\n      <td>0</td>\n      <td>0</td>\n      <td>0</td>\n      <td>17285</td>\n      <td>6.8</td>\n      <td>17254</td>\n      <td>203</td>\n      <td>28</td>\n      <td>1172</td>\n      <td>1033</td>\n      <td>20.3</td>\n      <td>1728.5</td>\n    </tr>\n    <tr>\n      <th>3</th>\n      <td>4524384067</td>\n      <td>0</td>\n      <td>3</td>\n      <td>0</td>\n      <td>0</td>\n      <td>4</td>\n      <td>5</td>\n      <td>5</td>\n      <td>1</td>\n      <td>0</td>\n      <td>1</td>\n      <td>0</td>\n      <td>15157</td>\n      <td>7.0</td>\n      <td>17954</td>\n      <td>201</td>\n      <td>55</td>\n      <td>-1321</td>\n      <td>-7</td>\n      <td>20.1</td>\n      <td>1515.7</td>\n      <td>1</td>\n      <td>1</td>\n      <td>1</td>\n      <td>5</td>\n      <td>4</td>\n      <td>10</td>\n      <td>0</td>\n      <td>0</td>\n      <td>0</td>\n      <td>0</td>\n      <td>16478</td>\n      <td>7.0</td>\n      <td>17961</td>\n      <td>235</td>\n      <td>47</td>\n      <td>1321</td>\n      <td>7</td>\n      <td>23.5</td>\n      <td>1647.8</td>\n    </tr>\n    <tr>\n      <th>4</th>\n      <td>4436033771</td>\n      <td>0</td>\n      <td>3</td>\n      <td>2</td>\n      <td>0</td>\n      <td>6</td>\n      <td>6</td>\n      <td>6</td>\n      <td>0</td>\n      <td>0</td>\n      <td>0</td>\n      <td>0</td>\n      <td>16400</td>\n      <td>7.0</td>\n      <td>18543</td>\n      <td>210</td>\n      <td>57</td>\n      <td>-1004</td>\n      <td>230</td>\n      <td>21.0</td>\n      <td>1640.0</td>\n      <td>2</td>\n      <td>1</td>\n      <td>1</td>\n      <td>6</td>\n      <td>6</td>\n      <td>7</td>\n      <td>1</td>\n      <td>1</td>\n      <td>0</td>\n      <td>0</td>\n      <td>17404</td>\n      <td>7.0</td>\n      <td>18313</td>\n      <td>225</td>\n      <td>67</td>\n      <td>1004</td>\n      <td>-230</td>\n      <td>22.5</td>\n      <td>1740.4</td>\n    </tr>\n  </tbody>\n</table>\n</div>"
     },
     "metadata": {},
     "execution_count": 35
    }
   ],
   "source": [
    "df.head()"
   ]
  },
  {
   "cell_type": "markdown",
   "metadata": {},
   "source": [
    "### Scaling continous Numeric Variables \n",
    "Some features do show good normal distribution, so it will be a good idea to standardize or scale them. But considering various ordinal variables, I will take the normalization route. From the domain knowledge, '# of Elite Monsters killed by red team' should be important though the numeric value per se is just 1 or 2. As we can use Euclidean distances for some models, the normalization would help get reasonable distance. \n"
   ]
  },
  {
   "cell_type": "markdown",
   "metadata": {},
   "source": [
    "The test strategy I take will be, spling the dataset into 'train' and 'test' sets, and applying Cross Validation onto 'train' when selecting and tuning classifiers. The final validation will be done against the test set. The normalization fitting will be done with 'train dataset' to avoid any leakage to test dataset"
   ]
  },
  {
   "cell_type": "code",
   "execution_count": 43,
   "metadata": {},
   "outputs": [],
   "source": [
    "X = df.drop(['gameId','blueWins'], axis=1).values\n",
    "y = df['blueWins'].values\n",
    "test_size = 0.2 \n",
    "seed = 42 \n",
    "X_train, X_test, y_train, y_test = train_test_split(X, y, test_size = test_size, random_state=seed, stratify=y)"
   ]
  },
  {
   "cell_type": "code",
   "execution_count": 60,
   "metadata": {},
   "outputs": [],
   "source": [
    "scaler = MinMaxScaler()\n",
    "X_train_scaled = scaler.fit_transform(X_train)\n",
    "X_test_scaled = scaler.transform(X_test)"
   ]
  },
  {
   "cell_type": "markdown",
   "metadata": {},
   "source": [
    "PCA dimension reduction also looks good. Ten principal components can explain over 91% of variance. "
   ]
  },
  {
   "cell_type": "code",
   "execution_count": 75,
   "metadata": {},
   "outputs": [
    {
     "output_type": "stream",
     "name": "stdout",
     "text": "0.9157374341568627\n"
    }
   ],
   "source": [
    "pca = PCA(n_components=10)\n",
    "X_train_pca = pca.fit_transform(X_train_scaled)\n",
    "X_test_pca = pca.transform(X_test_scaled)\n",
    "\n",
    "print(pca.explained_variance_ratio_.sum())"
   ]
  },
  {
   "cell_type": "code",
   "execution_count": 76,
   "metadata": {},
   "outputs": [
    {
     "output_type": "execute_result",
     "data": {
      "text/plain": "array([0.26771445, 0.17999527, 0.0887853 , 0.08040262, 0.06850223,\n       0.05978576, 0.05662712, 0.04083395, 0.03757806, 0.03551265])"
     },
     "metadata": {},
     "execution_count": 76
    }
   ],
   "source": [
    "pca.explained_variance_ratio_"
   ]
  },
  {
   "cell_type": "code",
   "execution_count": 45,
   "metadata": {},
   "outputs": [],
   "source": [
    "# I might want to try StandardScaler later. So keeping this here \n",
    "# standardization_columns = ['blueKills', 'redKills', 'blueDeaths', 'redDeaths', 'blueAssists', 'redAssists', 'blueTotalGold', 'redTotalGold', 'blueAvgLevel', 'redAvgLevel', 'blueTotalExperience', 'redTotalExperience', 'blueTotalMinionsKilled', 'redTotalMinionsKilled', 'blueTotalJungleMinionsKilled', 'redTotalJungleMinionsKilled', 'blueGoldDiff', 'redGoldDiff', 'blueExperienceDiff', 'redExperienceDiff', 'blueCSPerMin', 'redCSPerMin', 'blueGoldPerMin', 'redGoldPerMin']\n",
    "\n",
    "# ct_scaler = ColumnTransformer([('Scaling', StandardScaler(), standardization_columns)], remainder='passthrough')\n"
   ]
  },
  {
   "cell_type": "markdown",
   "metadata": {},
   "source": [
    "### Model Spotcheck \n",
    "I will try a few classification models with default setting, and choose two to dig deeper "
   ]
  },
  {
   "cell_type": "code",
   "execution_count": 46,
   "metadata": {},
   "outputs": [],
   "source": [
    "models = []\n",
    "models.append(('LogR', LogisticRegression(solver='liblinear', multi_class='ovr')))\n",
    "models.append(('LDA', LinearDiscriminantAnalysis()))\n",
    "models.append(('KNN', KNeighborsClassifier()))\n",
    "models.append(('TREE', DecisionTreeClassifier()))\n",
    "models.append(('NB', GaussianNB()))\n",
    "models.append(('SVM', SVC(gamma='auto')))"
   ]
  },
  {
   "cell_type": "code",
   "execution_count": 39,
   "metadata": {},
   "outputs": [
    {
     "output_type": "stream",
     "name": "stdout",
     "text": "LogR accuracy: 0.735673 (std 0.013346)\nLDA accuracy: 0.732889 (std 0.012687)\nKNN accuracy: 0.688099 (std 0.020084)\nTREE accuracy: 0.636849 (std 0.022592)\nNB accuracy: 0.729093 (std 0.016527)\nSVM accuracy: 0.500949 (std 0.000425)\n"
    }
   ],
   "source": [
    "# Baseline modeling with non-scaled train data\n",
    "accuracy_results = []\n",
    "model_names = []\n",
    "\n",
    "for name, model in models:\n",
    "    kfold = StratifiedKFold(n_splits=10, random_state=seed)\n",
    "    cv_results = cross_val_score(model, X_train, y_train, cv=kfold, scoring='accuracy')\n",
    "    accuracy_results.append(cv_results)\n",
    "    model_names.append(name)\n",
    "\n",
    "    print('%s accuracy: %f (std %f)' % (name, cv_results.mean(), cv_results.std())) "
   ]
  },
  {
   "cell_type": "code",
   "execution_count": 47,
   "metadata": {},
   "outputs": [
    {
     "output_type": "stream",
     "name": "stdout",
     "text": "LogR accuracy: 0.734913 (std 0.010945)\nLDA accuracy: 0.732889 (std 0.012687)\nKNN accuracy: 0.671395 (std 0.019718)\nTREE accuracy: 0.636087 (std 0.018434)\nNB accuracy: 0.729346 (std 0.016073)\nSVM accuracy: 0.732128 (std 0.010219)\n"
    }
   ],
   "source": [
    "# Spot check with scaled train data \n",
    "accuracy_results = []\n",
    "model_names = []\n",
    "\n",
    "for name, model in models:\n",
    "    kfold = StratifiedKFold(n_splits=10, random_state=seed)\n",
    "    cv_results = cross_val_score(model, X_train_scaled, y_train, cv=kfold, scoring='accuracy')\n",
    "    accuracy_results.append(cv_results)\n",
    "    model_names.append(name)\n",
    "\n",
    "    print('%s accuracy: %f (std %f)' % (name, cv_results.mean(), cv_results.std())) "
   ]
  },
  {
   "cell_type": "code",
   "execution_count": 77,
   "metadata": {},
   "outputs": [
    {
     "output_type": "stream",
     "name": "stdout",
     "text": "LogR accuracy: 0.727321 (std 0.014167)\nLDA accuracy: 0.725043 (std 0.013025)\nKNN accuracy: 0.670635 (std 0.012886)\nTREE accuracy: 0.634824 (std 0.016451)\nNB accuracy: 0.723147 (std 0.014545)\nSVM accuracy: 0.722767 (std 0.011906)\n"
    }
   ],
   "source": [
    "# Spot check with PCA scaled train data \n",
    "accuracy_results = []\n",
    "model_names = []\n",
    "\n",
    "for name, model in models:\n",
    "    kfold = StratifiedKFold(n_splits=10, random_state=seed)\n",
    "    cv_results = cross_val_score(model, X_train_pca, y_train, cv=kfold, scoring='accuracy')\n",
    "    accuracy_results.append(cv_results)\n",
    "    model_names.append(name)\n",
    "\n",
    "    print('%s accuracy: %f (std %f)' % (name, cv_results.mean(), cv_results.std())) "
   ]
  },
  {
   "cell_type": "markdown",
   "metadata": {},
   "source": [
    "It appears that Logistic Regression showed consistent, high accuracy with less deviation. So the next step will be tuning parameters with GridSearch <BR> \n",
    "### Find the best parameters with LR"
   ]
  },
  {
   "cell_type": "code",
   "execution_count": 85,
   "metadata": {},
   "outputs": [],
   "source": [
    "# create regularization parameter space \n",
    "C = np.logspace(-4, 4, 50)\n",
    "penalty = ['l1', 'l2', 'elasticnet']\n",
    "solver = ['newton-cg', 'lbfgs', 'liblinear', 'sag', 'saga']\n",
    "params = dict(C=C, penalty=penalty, solver=solver)\n",
    "lr_model = LogisticRegression()\n",
    "kfold = StratifiedKFold(n_splits=10, random_state=seed) \n",
    "grid = GridSearchCV(estimator=lr_model, param_grid=params, scoring='accuracy', cv=kfold, iid=True, random_state=seed)"
   ]
  },
  {
   "cell_type": "code",
   "execution_count": 86,
   "metadata": {},
   "outputs": [],
   "source": [
    "grid_result = grid.fit(X_train_scaled, y_train)"
   ]
  },
  {
   "cell_type": "code",
   "execution_count": 87,
   "metadata": {},
   "outputs": [
    {
     "output_type": "stream",
     "name": "stdout",
     "text": "Best: 0.736303 using {'C': 1.2067926406393288, 'penalty': 'l1', 'solver': 'liblinear'}\n"
    }
   ],
   "source": [
    "print(\"Best: %f using %s\" % (grid_result.best_score_, grid_result.best_params_))"
   ]
  },
  {
   "cell_type": "code",
   "execution_count": 89,
   "metadata": {},
   "outputs": [
    {
     "output_type": "execute_result",
     "data": {
      "text/plain": "1.2067926406393288"
     },
     "metadata": {},
     "execution_count": 89
    }
   ],
   "source": [
    "grid_result.best_params_['C']"
   ]
  },
  {
   "cell_type": "markdown",
   "metadata": {},
   "source": [
    "The validation results shows balanced accuracy, recall and precision result. But I don't see much lift compared to spot-check result. The score remains around 72 "
   ]
  },
  {
   "cell_type": "code",
   "execution_count": 90,
   "metadata": {},
   "outputs": [
    {
     "output_type": "stream",
     "name": "stdout",
     "text": "precision    recall  f1-score   support\n\n           0       0.72      0.71      0.72       990\n           1       0.71      0.72      0.72       986\n\n    accuracy                           0.72      1976\n   macro avg       0.72      0.72      0.72      1976\nweighted avg       0.72      0.72      0.72      1976\n\n"
    }
   ],
   "source": [
    "lr_final_model = LogisticRegression(C=grid_result.best_params_['C'], penalty=grid_result.best_params_['penalty'], solver=grid_result.best_params_['solver'])\n",
    "lr_final_model.fit(X_train_scaled, y_train)\n",
    "y_hat = lr_final_model.predict(X_test_scaled)\n",
    "\n",
    "print(classification_report(y_test, y_hat))"
   ]
  },
  {
   "cell_type": "markdown",
   "metadata": {},
   "source": [
    "Applying Ensemble methods would not help much. I already see CART didn't do a good job at the spot check stage "
   ]
  },
  {
   "cell_type": "code",
   "execution_count": 95,
   "metadata": {},
   "outputs": [
    {
     "output_type": "stream",
     "name": "stdout",
     "text": "AB accuracy: 0.724288 (std 0.012013)\nGBM accuracy: 0.729472 (std 0.010989)\nRF accuracy: 0.698597 (std 0.019198)\nET accuracy: 0.700874 (std 0.019072)\n"
    }
   ],
   "source": [
    "ensembles = []\n",
    "ensembles.append(('AB', AdaBoostClassifier()))\n",
    "ensembles.append(('GBM', GradientBoostingClassifier()))\n",
    "ensembles.append(('RF', RandomForestClassifier(n_estimators=10)))\n",
    "ensembles.append(('ET', ExtraTreesClassifier(n_estimators=10)))\n",
    "results = []\n",
    "names = []\n",
    "for name, model in ensembles:\n",
    "\tkfold = StratifiedKFold(n_splits=10, random_state=seed) \n",
    "\tcv_results = cross_val_score(model, X_train_scaled, y_train, cv=kfold, scoring='accuracy')\n",
    "\tresults.append(cv_results)\n",
    "\tnames.append(name)\n",
    "\tprint('%s accuracy: %f (std %f)' % (name, cv_results.mean(), cv_results.std())) "
   ]
  },
  {
   "cell_type": "markdown",
   "metadata": {},
   "source": [
    "### Re-thinking Features \n",
    "Let's revisit the data again, and refine the features. Playing LoL would also help to deepend the domain knowledge. :) \n",
    "<BR> (to be continued)"
   ]
  }
 ],
 "metadata": {
  "language_info": {
   "codemirror_mode": {
    "name": "ipython",
    "version": 3
   },
   "file_extension": ".py",
   "mimetype": "text/x-python",
   "name": "python",
   "nbconvert_exporter": "python",
   "pygments_lexer": "ipython3",
   "version": "3.7.6-final"
  },
  "orig_nbformat": 2,
  "kernelspec": {
   "name": "python37664bitmlearnconda0083abed3f784a9c9440b2aa200e0f06",
   "display_name": "Python 3.7.6 64-bit ('mlearn': conda)"
  }
 },
 "nbformat": 4,
 "nbformat_minor": 2
}